{
  "cells": [
    {
      "cell_type": "markdown",
      "metadata": {
        "id": "bIY31_4AEwSO"
      },
      "source": [
        "# Step1 : Download asd set Dataset"
      ]
    },
    {
      "cell_type": "markdown",
      "metadata": {
        "id": "R1fO3IoGFYjn"
      },
      "source": [
        "### Download Dataset"
      ]
    },
    {
      "cell_type": "code",
      "execution_count": 75,
      "metadata": {
        "colab": {
          "base_uri": "https://localhost:8080/"
        },
        "id": "wf7-CwD_nTiW",
        "outputId": "86ad1ccf-4a00-4ed5-d53d-3dc4a1425872"
      },
      "outputs": [
        {
          "name": "stdout",
          "output_type": "stream",
          "text": [
            "Requirement already satisfied: datasets in /usr/local/lib/python3.10/dist-packages (2.18.0)\n",
            "Requirement already satisfied: filelock in /usr/local/lib/python3.10/dist-packages (from datasets) (3.13.3)\n",
            "Requirement already satisfied: numpy>=1.17 in /usr/local/lib/python3.10/dist-packages (from datasets) (1.25.2)\n",
            "Requirement already satisfied: pyarrow>=12.0.0 in /usr/local/lib/python3.10/dist-packages (from datasets) (14.0.2)\n",
            "Requirement already satisfied: pyarrow-hotfix in /usr/local/lib/python3.10/dist-packages (from datasets) (0.6)\n",
            "Requirement already satisfied: dill<0.3.9,>=0.3.0 in /usr/local/lib/python3.10/dist-packages (from datasets) (0.3.8)\n",
            "Requirement already satisfied: pandas in /usr/local/lib/python3.10/dist-packages (from datasets) (2.0.3)\n",
            "Requirement already satisfied: requests>=2.19.0 in /usr/local/lib/python3.10/dist-packages (from datasets) (2.31.0)\n",
            "Requirement already satisfied: tqdm>=4.62.1 in /usr/local/lib/python3.10/dist-packages (from datasets) (4.66.2)\n",
            "Requirement already satisfied: xxhash in /usr/local/lib/python3.10/dist-packages (from datasets) (3.4.1)\n",
            "Requirement already satisfied: multiprocess in /usr/local/lib/python3.10/dist-packages (from datasets) (0.70.16)\n",
            "Requirement already satisfied: fsspec[http]<=2024.2.0,>=2023.1.0 in /usr/local/lib/python3.10/dist-packages (from datasets) (2023.6.0)\n",
            "Requirement already satisfied: aiohttp in /usr/local/lib/python3.10/dist-packages (from datasets) (3.9.3)\n",
            "Requirement already satisfied: huggingface-hub>=0.19.4 in /usr/local/lib/python3.10/dist-packages (from datasets) (0.20.3)\n",
            "Requirement already satisfied: packaging in /usr/local/lib/python3.10/dist-packages (from datasets) (24.0)\n",
            "Requirement already satisfied: pyyaml>=5.1 in /usr/local/lib/python3.10/dist-packages (from datasets) (6.0.1)\n",
            "Requirement already satisfied: aiosignal>=1.1.2 in /usr/local/lib/python3.10/dist-packages (from aiohttp->datasets) (1.3.1)\n",
            "Requirement already satisfied: attrs>=17.3.0 in /usr/local/lib/python3.10/dist-packages (from aiohttp->datasets) (23.2.0)\n",
            "Requirement already satisfied: frozenlist>=1.1.1 in /usr/local/lib/python3.10/dist-packages (from aiohttp->datasets) (1.4.1)\n",
            "Requirement already satisfied: multidict<7.0,>=4.5 in /usr/local/lib/python3.10/dist-packages (from aiohttp->datasets) (6.0.5)\n",
            "Requirement already satisfied: yarl<2.0,>=1.0 in /usr/local/lib/python3.10/dist-packages (from aiohttp->datasets) (1.9.4)\n",
            "Requirement already satisfied: async-timeout<5.0,>=4.0 in /usr/local/lib/python3.10/dist-packages (from aiohttp->datasets) (4.0.3)\n",
            "Requirement already satisfied: typing-extensions>=3.7.4.3 in /usr/local/lib/python3.10/dist-packages (from huggingface-hub>=0.19.4->datasets) (4.10.0)\n",
            "Requirement already satisfied: charset-normalizer<4,>=2 in /usr/local/lib/python3.10/dist-packages (from requests>=2.19.0->datasets) (3.3.2)\n",
            "Requirement already satisfied: idna<4,>=2.5 in /usr/local/lib/python3.10/dist-packages (from requests>=2.19.0->datasets) (3.6)\n",
            "Requirement already satisfied: urllib3<3,>=1.21.1 in /usr/local/lib/python3.10/dist-packages (from requests>=2.19.0->datasets) (2.0.7)\n",
            "Requirement already satisfied: certifi>=2017.4.17 in /usr/local/lib/python3.10/dist-packages (from requests>=2.19.0->datasets) (2024.2.2)\n",
            "Requirement already satisfied: python-dateutil>=2.8.2 in /usr/local/lib/python3.10/dist-packages (from pandas->datasets) (2.8.2)\n",
            "Requirement already satisfied: pytz>=2020.1 in /usr/local/lib/python3.10/dist-packages (from pandas->datasets) (2023.4)\n",
            "Requirement already satisfied: tzdata>=2022.1 in /usr/local/lib/python3.10/dist-packages (from pandas->datasets) (2024.1)\n",
            "Requirement already satisfied: six>=1.5 in /usr/local/lib/python3.10/dist-packages (from python-dateutil>=2.8.2->pandas->datasets) (1.16.0)\n"
          ]
        }
      ],
      "source": [
        "!pip install datasets\n"
      ]
    },
    {
      "cell_type": "markdown",
      "metadata": {
        "id": "tqFfgodDE-24"
      },
      "source": [
        "### Import Library"
      ]
    },
    {
      "cell_type": "code",
      "execution_count": 76,
      "metadata": {
        "id": "sOEMad6DnyyT"
      },
      "outputs": [],
      "source": [
        "from datasets import load_dataset"
      ]
    },
    {
      "cell_type": "markdown",
      "metadata": {
        "id": "xrcNq2CdFNXC"
      },
      "source": [
        "### Set Persian Dataset"
      ]
    },
    {
      "cell_type": "code",
      "execution_count": 77,
      "metadata": {
        "id": "73QOoVt7I25s"
      },
      "outputs": [],
      "source": [
        "persian_dataset = load_dataset(\"SeyedAli/Persian-Text-Sentiment\")"
      ]
    },
    {
      "cell_type": "code",
      "execution_count": 78,
      "metadata": {
        "colab": {
          "base_uri": "https://localhost:8080/"
        },
        "id": "WKgL3BepJOED",
        "outputId": "0ccecb63-fd66-4609-96d3-d9de40b02d1a"
      },
      "outputs": [
        {
          "data": {
            "text/plain": [
              "DatasetDict({\n",
              "    train: Dataset({\n",
              "        features: ['text', 'label'],\n",
              "        num_rows: 55852\n",
              "    })\n",
              "    test: Dataset({\n",
              "        features: ['text', 'label'],\n",
              "        num_rows: 13964\n",
              "    })\n",
              "})"
            ]
          },
          "execution_count": 78,
          "metadata": {},
          "output_type": "execute_result"
        }
      ],
      "source": [
        "persian_dataset"
      ]
    },
    {
      "cell_type": "code",
      "execution_count": 79,
      "metadata": {
        "colab": {
          "base_uri": "https://localhost:8080/"
        },
        "id": "rf0CaeWSKHlO",
        "outputId": "ce843613-7314-43bd-fe15-f7b7385c4416"
      },
      "outputs": [
        {
          "data": {
            "text/plain": [
              "0"
            ]
          },
          "execution_count": 79,
          "metadata": {},
          "output_type": "execute_result"
        }
      ],
      "source": [
        "min(persian_dataset['train']['label'])"
      ]
    },
    {
      "cell_type": "code",
      "execution_count": 80,
      "metadata": {
        "colab": {
          "base_uri": "https://localhost:8080/"
        },
        "id": "DCNchoU6J048",
        "outputId": "3bf62676-f7cc-494c-9852-1833f76f1c25"
      },
      "outputs": [
        {
          "data": {
            "text/plain": [
              "1"
            ]
          },
          "execution_count": 80,
          "metadata": {},
          "output_type": "execute_result"
        }
      ],
      "source": [
        "max(persian_dataset['train']['label'])"
      ]
    },
    {
      "cell_type": "markdown",
      "metadata": {
        "id": "CQV1_LrnGARI"
      },
      "source": [
        "### Print Dataset"
      ]
    },
    {
      "cell_type": "code",
      "execution_count": 81,
      "metadata": {
        "colab": {
          "base_uri": "https://localhost:8080/"
        },
        "id": "VtBtyswaKM9X",
        "outputId": "70e9beb5-0834-45de-8a89-83d055f4ee97"
      },
      "outputs": [
        {
          "name": "stdout",
          "output_type": "stream",
          "text": [
            "[0]\t label:1 \t text:این هندس فری تازه به دستم رسیده  و برای کسایی که انتظار شنیدن یک موسیقی با کیفیت دارن حتما پیشنهاد م\n",
            "[1]\t label:1 \t text:عالی بود عالی، امیدوارم کیفیت همینجور بمونه\n",
            "[2]\t label:1 \t text:من وقتی این ایرباد به لپ تاپ ایسوس  وصل میکنم و با نرم افزار حرفه ای   آهنگها را پخش میکنم   صدای گر\n",
            "[3]\t label:1 \t text:با عرض سلام ضمن عرض خسته نباشید چلوکباب کوبیده سفارشی بسیار عالی بود ولی جوجه در چلو جوجه کباب مخصوص\n",
            "[4]\t label:1 \t text:خوشمزه و داغ مخصوصا با سس چیلی که فرستاده بودن بسیار خوب بود ممنون ازجوجه داغ و اسنپ\n",
            "[5]\t label:0 \t text:متاسفانه با وجود تاکید زیاد به خشک و برشته نبودن نان‌ها، نان سنگک به قدری خشک و بیسکویتی بود که قسمت\n",
            "[6]\t label:0 \t text:طعم چیزکیک اوکی بود عالی نبود ولی اوکی بود اما بسته‌بندی و ارسالش بسیار نامناسب بود کیک کاملا از ریخ\n",
            "[7]\t label:0 \t text:جوجه کباب خیلی پخته و خشک شده بود \n",
            "[8]\t label:0 \t text:سالاد فصل بسیار کیفیت بدی داشت وکاهوداخل ساندویچ از کیفیت خوبی برخوردارنبود\n",
            "[9]\t label:0 \t text:من  تا مایع ظرفشویی سفارش دادم ولی یکی ارسال شد\n"
          ]
        }
      ],
      "source": [
        "for doc_index in range(0,10):\n",
        "  print(f\"[{doc_index}]\\t label:{persian_dataset['train'][doc_index]['label']} \\t text:{persian_dataset['train'][doc_index]['text'][0:100]}\")"
      ]
    },
    {
      "cell_type": "markdown",
      "metadata": {
        "id": "yn8AQQaXRn6_"
      },
      "source": [
        "# Step2 : Set Variables"
      ]
    },
    {
      "cell_type": "markdown",
      "metadata": {
        "id": "bwAJgunwKoKb"
      },
      "source": [
        "### set Variables"
      ]
    },
    {
      "cell_type": "code",
      "execution_count": 82,
      "metadata": {
        "id": "zRuUykS6Kd4K"
      },
      "outputs": [],
      "source": [
        "MinDFList = [2, 3, 10, 50, 100]\n",
        "ItemCountList = [100, 200, 500, 1000]\n",
        "MinDF = 10 # for filter term frequency\n",
        "ItemCount = 200 # number of item used from dataset\n",
        "MaxIteration = 100 # number of iteration for clustering\n",
        "NumberOfClusters = 2 # number of clusters\n",
        "KMeansWay = 'k-means++' # kmeans way how its calculated\n",
        "clusterName = \"cluster\" # csv File name"
      ]
    },
    {
      "cell_type": "markdown",
      "metadata": {
        "id": "K_lVjEUQJ1VD"
      },
      "source": [
        "### Set Options for displaying"
      ]
    },
    {
      "cell_type": "code",
      "execution_count": 98,
      "metadata": {
        "id": "kMZGzRMnJ1if"
      },
      "outputs": [],
      "source": [
        "import pandas as pd\n",
        "pd.set_option('display.max_rows', None)\n",
        "pd.set_option('display.max_columns', None)\n",
        "pd.set_option('display.max_colwidth', None)"
      ]
    },
    {
      "cell_type": "markdown",
      "metadata": {
        "id": "fX7Kydh3KzzR"
      },
      "source": [
        "# Step3 : Vectorization Doc with TF-IDF"
      ]
    },
    {
      "cell_type": "markdown",
      "metadata": {
        "id": "-n1As4TELLOM"
      },
      "source": [
        "### Import Library"
      ]
    },
    {
      "cell_type": "code",
      "execution_count": 83,
      "metadata": {
        "id": "s_Z82GwKMeal"
      },
      "outputs": [],
      "source": [
        "from sklearn.feature_extraction.text import TfidfVectorizer, CountVectorizer"
      ]
    },
    {
      "cell_type": "markdown",
      "metadata": {
        "id": "xKt1Vcm_LaM4"
      },
      "source": [
        "### Vectorize"
      ]
    },
    {
      "cell_type": "code",
      "execution_count": 84,
      "metadata": {
        "colab": {
          "base_uri": "https://localhost:8080/"
        },
        "id": "WUxZEisqMZKu",
        "outputId": "36dbac94-46ea-4f69-9807-1e0f331e823d"
      },
      "outputs": [
        {
          "name": "stdout",
          "output_type": "stream",
          "text": [
            "(55852, 4591)\n",
            "[(70, 'ادم', 0.18621131199485072), (103, 'از', 0.07056396577345739), (291, 'انتظار', 0.15758240074456317), (337, 'انگار', 0.15329214228657592), (348, 'اهنگ', 0.5095942646638163), (438, 'این', 0.2697752139295794), (475, 'با', 0.16396999851262734), (667, 'برای', 0.11100121633259262), (784, 'بعد', 0.13186176476702166), (845, 'به', 0.13809467213661994), (954, 'تا', 0.1134868216654906), (969, 'تازه', 0.11183745889514918), (1264, 'حالا', 0.17539631713031353), (1274, 'حتما', 0.16466460788199724), (1507, 'دارن', 0.19965633676158456), (1595, 'دستم', 0.13324218159867873), (1797, 'رسیده', 0.20612646352069003), (2553, 'فکر', 0.15832197111586907), (3084, 'موسیقی', 0.25479713233190815), (3266, 'میکنم', 0.14836067780281506), (3269, 'میکنه', 0.17015991334709685), (3679, 'هدست', 0.2735757000931026), (4075, 'پیشنهاد', 0.15626618676707035), (4303, 'کسایی', 0.2377964434781449), (4379, 'که', 0.07239395000134217), (4423, 'کیفیت', 0.07949044900097112), (4574, 'یک', 0.11042471165957501)]\n"
          ]
        }
      ],
      "source": [
        "def Vectorize(Min_DF):\n",
        "    vectorizer = TfidfVectorizer(strip_accents='unicode', min_df=Min_DF)\n",
        "    X = vectorizer.fit_transform(persian_dataset['train']['text'])\n",
        "\n",
        "    vocab=vectorizer.get_feature_names_out()\n",
        "\n",
        "    print(X.shape)\n",
        "\n",
        "    doc_vetors=X.toarray()\n",
        "\n",
        "    print([(i,vocab[i],j) for i,j in enumerate(doc_vetors[0]) if j>0])\n",
        "    return X, vectorizer\n",
        "\n",
        "X, vectorizer = Vectorize(MinDF)"
      ]
    },
    {
      "cell_type": "markdown",
      "metadata": {
        "id": "yGB8CiLrgaLz"
      },
      "source": [
        "# Step4 : KMeans Clustering"
      ]
    },
    {
      "cell_type": "markdown",
      "metadata": {
        "id": "jIAGUZ0vYF8Y"
      },
      "source": [
        "### Import KMeans Library"
      ]
    },
    {
      "cell_type": "code",
      "execution_count": 85,
      "metadata": {
        "id": "-91-UP_-j9NG"
      },
      "outputs": [],
      "source": [
        "from sklearn.cluster import KMeans\n",
        "from time import time"
      ]
    },
    {
      "cell_type": "markdown",
      "metadata": {
        "id": "TpXOWWSmYMaq"
      },
      "source": [
        "### Create kmeans cluster"
      ]
    },
    {
      "cell_type": "code",
      "execution_count": 86,
      "metadata": {
        "colab": {
          "base_uri": "https://localhost:8080/"
        },
        "id": "LjEKUu17j49H",
        "outputId": "4f34fb49-6e2c-472c-96bc-d81fa021d8f3"
      },
      "outputs": [
        {
          "name": "stdout",
          "output_type": "stream",
          "text": [
            "done in 0.138s\n"
          ]
        },
        {
          "name": "stderr",
          "output_type": "stream",
          "text": [
            "/usr/local/lib/python3.10/dist-packages/sklearn/cluster/_kmeans.py:870: FutureWarning: The default value of `n_init` will change from 10 to 'auto' in 1.4. Set the value of `n_init` explicitly to suppress the warning\n",
            "  warnings.warn(\n"
          ]
        }
      ],
      "source": [
        "def KMeansCreate(Number_Of_Clusters, KMeans_Way, Item_Count, Max_Iteration, x):\n",
        "    km = KMeans(n_clusters=Number_Of_Clusters, init=KMeans_Way, max_iter=Max_Iteration)\n",
        "    t0 = time()\n",
        "    km.fit(x[:Item_Count])\n",
        "    labels=persian_dataset['train']['label'][:Item_Count]\n",
        "    print(\"done in %0.3fs\" % (time() - t0))\n",
        "    return km\n",
        "\n",
        "KM = KMeansCreate(NumberOfClusters, KMeansWay, ItemCount, MaxIteration, X)"
      ]
    },
    {
      "cell_type": "markdown",
      "metadata": {
        "id": "hzu47hcswMKR"
      },
      "source": [
        "### Import calinski_harabasz Library"
      ]
    },
    {
      "cell_type": "code",
      "execution_count": 87,
      "metadata": {
        "id": "_vhSoSOkwTWT"
      },
      "outputs": [],
      "source": [
        "from sklearn.metrics import  calinski_harabasz_score"
      ]
    },
    {
      "cell_type": "markdown",
      "metadata": {
        "id": "tCS2ZxTvYiSX"
      },
      "source": [
        "### Create calinski_harabasz_score"
      ]
    },
    {
      "cell_type": "code",
      "execution_count": 88,
      "metadata": {
        "colab": {
          "base_uri": "https://localhost:8080/"
        },
        "id": "MRAI3JK-tAnt",
        "outputId": "cf86d968-7f91-4a61-a310-06e8e7c9ddea"
      },
      "outputs": [
        {
          "name": "stdout",
          "output_type": "stream",
          "text": [
            "Calinski-Harabasz Index: 2.54\n"
          ]
        }
      ],
      "source": [
        "def CalinskiHarabasz(km, Item_Count):\n",
        "    ch_index = calinski_harabasz_score(X[:Item_Count].toarray(), km.labels_)\n",
        "    print(f\"Calinski-Harabasz Index: {ch_index:.2f}\")\n",
        "    return ch_index\n",
        "\n",
        "chIndex = CalinskiHarabasz(KM, ItemCount)"
      ]
    },
    {
      "cell_type": "markdown",
      "metadata": {
        "id": "X24kWST8xNf2"
      },
      "source": [
        "### Import Pandas Library"
      ]
    },
    {
      "cell_type": "code",
      "execution_count": 89,
      "metadata": {
        "id": "fTMtnN9XxVf9"
      },
      "outputs": [],
      "source": [
        "import pandas as pd"
      ]
    },
    {
      "cell_type": "markdown",
      "metadata": {
        "id": "uxRmTeLZZUjd"
      },
      "source": [
        "### Create Pandas frame"
      ]
    },
    {
      "cell_type": "code",
      "execution_count": 90,
      "metadata": {
        "colab": {
          "base_uri": "https://localhost:8080/"
        },
        "id": "enAt93tahxeq",
        "outputId": "592382fa-8896-49c2-83d9-444da9811386"
      },
      "outputs": [
        {
          "name": "stderr",
          "output_type": "stream",
          "text": [
            "<ipython-input-90-0eda76fec746>:6: SettingWithCopyWarning: \n",
            "A value is trying to be set on a copy of a slice from a DataFrame.\n",
            "Try using .loc[row_indexer,col_indexer] = value instead\n",
            "\n",
            "See the caveats in the documentation: https://pandas.pydata.org/pandas-docs/stable/user_guide/indexing.html#returning-a-view-versus-a-copy\n",
            "  df_cl['cluster'] = km.labels_\n"
          ]
        }
      ],
      "source": [
        "def CreateFrame(Item_Count, km):\n",
        "    df = pd.DataFrame({\"text\":persian_dataset['train']['text'],\"label\":persian_dataset['train']['label']})\n",
        "\n",
        "    df_cl=df[:Item_Count]\n",
        "\n",
        "    df_cl['cluster'] = km.labels_\n",
        "    return df_cl\n",
        "\n",
        "df_cl = CreateFrame(ItemCount, KM)"
      ]
    },
    {
      "cell_type": "markdown",
      "metadata": {
        "id": "ENS0sIE6eV-V"
      },
      "source": [
        "### Print frame"
      ]
    },
    {
      "cell_type": "code",
      "execution_count": 99,
      "metadata": {
        "colab": {
          "base_uri": "https://localhost:8080/",
          "height": 1000
        },
        "id": "688cRAkyDQks",
        "outputId": "2b6d95f4-2112-418d-d2a0-13126cc1c3e0"
      },
      "outputs": [
        {
          "data": {
            "application/vnd.google.colaboratory.intrinsic+json": {
              "summary": "{\n  \"name\": \"df_cl\",\n  \"rows\": 1000,\n  \"fields\": [\n    {\n      \"column\": \"text\",\n      \"properties\": {\n        \"dtype\": \"string\",\n        \"num_unique_values\": 1000,\n        \"samples\": [\n          \"\\u062e\\u0648\\u0628 \\u0628\\u0648\\u062f \\u062a\\u062d\\u0648\\u06cc\\u0644 \\u0633\\u0631\\u06cc\\u0639 \\u0648 \\u062f\\u0631\\u0633\\u062a\",\n          \"\\u062e\\u0645\\u06cc\\u0631 \\u067e\\u06cc\\u062a\\u0632\\u0627\\u0647\\u0627\\u06cc \\u0628\\u0627 \\u0646\\u0648\\u0646 \\u0646\\u0627\\u0632\\u06a9 \\u067e\\u0646 \\u06a9\\u0631\\u0627\\u0633\\u062a \\u0645\\u0639\\u0645\\u0648\\u0644\\u0627 \\u0628\\u0627\\u06cc\\u062f \\u062a\\u0631\\u062f \\u0628\\u0627\\u0634\\u0647\\u060c \\u0634\\u0627\\u06cc\\u062f \\u0628\\u062e\\u0627\\u0637\\u0631 \\u062d\\u0645\\u0644 \\u0628\\u0627 \\u067e\\u06cc\\u06a9 \\u0628\\u0648\\u062f \\u0648\\u0644\\u06cc \\u06a9\\u06cc\\u0641\\u06cc\\u062a \\u0622\\u0646 \\u06a9\\u0645 \\u0634\\u062f\\u0647 \\u0628\\u0648\\u062f\",\n          \"\\u0648\\u0627\\u0642\\u0639\\u0627 \\u0645\\u062a\\u0627\\u0633\\u0641\\u0645 \\u06a9\\u0647 \\u0628\\u0627\\u0628\\u062a \\u0627\\u0639\\u062a\\u0645\\u0627\\u062f \\u0645\\u0634\\u062a\\u0631\\u06cc \\u0627\\u06cc\\u0646\\u0637\\u0648\\u0631\\u06cc \\u062c\\u0648\\u0627\\u0628 \\u0627\\u0639\\u062a\\u0645\\u0627\\u062f \\u0645\\u06cc\\u062f\\u06cc\\u0646 \\u0627\\u0635\\u0644\\u0627 \\u0641\\u06a9\\u0631 \\u0646\\u0645\\u06cc\\u06a9\\u0631\\u062f\\u0645 \\u062d\\u062c\\u0645 \\u063a\\u0630\\u0627 \\u0627\\u0646\\u0642\\u062f\\u0631\\u06a9\\u0645 \\u0628\\u0627\\u0634\\u0647 \\u067e-\\u0646-\\u062f\\u0647 \\u062a\\u0648\\u0645\\u0646 \\u067e\\u0648\\u0644 \\u06af\\u0631\\u0641\\u062a\\u0646 \\u0648\\u0627\\u0633\\u0647 \\u0646\\u0635\\u0641 \\u062a\\u062e\\u0645 \\u0645\\u0631\\u063a \\u06cc\\u0639\\u0646\\u06cc \\u062e\\u062f\\u0627\\u0633\\u0631\\u0634\\u0627\\u0647\\u062f\\u0647 \\u0627\\u0646\\u062f\\u0627\\u0632\\u0647 \\u06cc\\u0647 \\u0644\\u0642\\u0645\\u0647 \\u0647\\u0645 \\u0646\\u0628\\u0648\\u062f\\u0627\\u0634\\u06a9 \\u0686\\u0634\\u0627\\u0645\\u0648\\u0646\\u0648 \\u062f\\u0631\\u0627\\u0648\\u0631\\u062f\\u06cc \\u0648 \\u0627\\u06cc\\u0646 \\u0686\\u0646\\u06cc\\u0646 \\u0634\\u062f \\u06a9\\u0647 \\u062f\\u06cc\\u06af\\u0631 \\u0627\\u0632 \\u067e\\u0631\\u067e\\u0631\\u0648\\u06a9 \\u0633\\u0641\\u0627\\u0631\\u0634 \\u0646\\u062f\\u06cc\\u0645 \\u0628\\u0627\\u0632\\u0645 \\u0645\\u06cc\\u06af\\u0645 \\u0627\\u0632 \\u0627\\u0639\\u062a\\u0645\\u0627\\u062f\\u0645\\u0634\\u062a\\u0631\\u06cc \\u0633\\u0648\\u0627\\u0633\\u062a\\u0641\\u0627\\u062f\\u0647 \\u0646\\u06a9\\u0646\\u06cc\\u062f \"\n        ],\n        \"semantic_type\": \"\",\n        \"description\": \"\"\n      }\n    },\n    {\n      \"column\": \"label\",\n      \"properties\": {\n        \"dtype\": \"number\",\n        \"std\": 0,\n        \"min\": 0,\n        \"max\": 1,\n        \"num_unique_values\": 2,\n        \"samples\": [\n          0,\n          1\n        ],\n        \"semantic_type\": \"\",\n        \"description\": \"\"\n      }\n    },\n    {\n      \"column\": \"cluster\",\n      \"properties\": {\n        \"dtype\": \"int32\",\n        \"num_unique_values\": 2,\n        \"samples\": [\n          1,\n          0\n        ],\n        \"semantic_type\": \"\",\n        \"description\": \"\"\n      }\n    }\n  ]\n}",
              "type": "dataframe",
              "variable_name": "df_cl"
            },
            "text/html": [
              "\n",
              "  <div id=\"df-c53d58b1-a6b8-4d04-98c8-205dde5747f0\" class=\"colab-df-container\">\n",
              "    <div>\n",
              "<style scoped>\n",
              "    .dataframe tbody tr th:only-of-type {\n",
              "        vertical-align: middle;\n",
              "    }\n",
              "\n",
              "    .dataframe tbody tr th {\n",
              "        vertical-align: top;\n",
              "    }\n",
              "\n",
              "    .dataframe thead th {\n",
              "        text-align: right;\n",
              "    }\n",
              "</style>\n",
              "<table border=\"1\" class=\"dataframe\">\n",
              "  <thead>\n",
              "    <tr style=\"text-align: right;\">\n",
              "      <th></th>\n",
              "      <th>text</th>\n",
              "      <th>label</th>\n",
              "      <th>cluster</th>\n",
              "    </tr>\n",
              "  </thead>\n",
              "  <tbody>\n",
              "    <tr>\n",
              "      <th>0</th>\n",
              "      <td>این هندس فری تازه به دستم رسیده  و برای کسایی که انتظار شنیدن یک موسیقی با کیفیت دارن حتما پیشنهاد میکنم  بعد از شنیدن آهنگ با این هدست آدم به این فکر میکنه انگار تا حالا آهنگ نشنیده</td>\n",
              "      <td>1</td>\n",
              "      <td>0</td>\n",
              "    </tr>\n",
              "    <tr>\n",
              "      <th>1</th>\n",
              "      <td>عالی بود عالی، امیدوارم کیفیت همینجور بمونه</td>\n",
              "      <td>1</td>\n",
              "      <td>1</td>\n",
              "    </tr>\n",
              "    <tr>\n",
              "      <th>2</th>\n",
              "      <td>من وقتی این ایرباد به لپ تاپ ایسوس  وصل میکنم و با نرم افزار حرفه ای   آهنگها را پخش میکنم   صدای گرم و شفافی بهم میده و نهایت قدرت این ایرباد نشون میده</td>\n",
              "      <td>1</td>\n",
              "      <td>0</td>\n",
              "    </tr>\n",
              "    <tr>\n",
              "      <th>3</th>\n",
              "      <td>با عرض سلام ضمن عرض خسته نباشید چلوکباب کوبیده سفارشی بسیار عالی بود ولی جوجه در چلو جوجه کباب مخصوص قدری خشک بود در مجموع از نحوه سرویس دهی و زمان بندی و کیفیت غذا رضایت کامل داشته و تشکر فراوان دارم</td>\n",
              "      <td>1</td>\n",
              "      <td>0</td>\n",
              "    </tr>\n",
              "    <tr>\n",
              "      <th>4</th>\n",
              "      <td>خوشمزه و داغ مخصوصا با سس چیلی که فرستاده بودن بسیار خوب بود ممنون ازجوجه داغ و اسنپ</td>\n",
              "      <td>1</td>\n",
              "      <td>1</td>\n",
              "    </tr>\n",
              "    <tr>\n",
              "      <th>5</th>\n",
              "      <td>متاسفانه با وجود تاکید زیاد به خشک و برشته نبودن نان‌ها، نان سنگک به قدری خشک و بیسکویتی بود که قسمت عمده آن در بسته بندی کاملا خرد شده بود اطراف نان کاملا سوخته بود واقعا ناراضی بودم و خرید مجدد نخواهم کرد</td>\n",
              "      <td>0</td>\n",
              "      <td>0</td>\n",
              "    </tr>\n",
              "    <tr>\n",
              "      <th>6</th>\n",
              "      <td>طعم چیزکیک اوکی بود عالی نبود ولی اوکی بود اما بسته‌بندی و ارسالش بسیار نامناسب بود کیک کاملا از ریخت افتاده و به بدنه‌های جعبه مالیده بود</td>\n",
              "      <td>0</td>\n",
              "      <td>0</td>\n",
              "    </tr>\n",
              "    <tr>\n",
              "      <th>7</th>\n",
              "      <td>جوجه کباب خیلی پخته و خشک شده بود</td>\n",
              "      <td>0</td>\n",
              "      <td>0</td>\n",
              "    </tr>\n",
              "    <tr>\n",
              "      <th>8</th>\n",
              "      <td>سالاد فصل بسیار کیفیت بدی داشت وکاهوداخل ساندویچ از کیفیت خوبی برخوردارنبود</td>\n",
              "      <td>0</td>\n",
              "      <td>0</td>\n",
              "    </tr>\n",
              "    <tr>\n",
              "      <th>9</th>\n",
              "      <td>من  تا مایع ظرفشویی سفارش دادم ولی یکی ارسال شد</td>\n",
              "      <td>0</td>\n",
              "      <td>0</td>\n",
              "    </tr>\n",
              "    <tr>\n",
              "      <th>10</th>\n",
              "      <td>فقط‌میتونم بگم واقعا متاسفم واسه یه رستورانی که واقعا سال پیش فوق العاده بود و الان انقدر افت کرده سیب زمینی   بسته پر شده بود و پیتزا خانوادش حتی اندازه ی‌ پیتزا  نفره جاهای دیگه مخلفات نداشت واقعا متاسفم</td>\n",
              "      <td>0</td>\n",
              "      <td>0</td>\n",
              "    </tr>\n",
              "    <tr>\n",
              "      <th>11</th>\n",
              "      <td>عالی بود زمان بندی بسته بندی کیفیت و کمیت مخصوصا دورچین غذا واقعا عالی بود</td>\n",
              "      <td>1</td>\n",
              "      <td>1</td>\n",
              "    </tr>\n",
              "    <tr>\n",
              "      <th>12</th>\n",
              "      <td>کیفیت اصلا خوب نبود، خمیر بود، دیگه نمیگیرم</td>\n",
              "      <td>0</td>\n",
              "      <td>0</td>\n",
              "    </tr>\n",
              "    <tr>\n",
              "      <th>13</th>\n",
              "      <td>این کیک  نفره هم نیست ولی روش نوشته تا  نفر ابروم رفت واقعا اطلاعات غلط نذارین</td>\n",
              "      <td>0</td>\n",
              "      <td>0</td>\n",
              "    </tr>\n",
              "    <tr>\n",
              "      <th>14</th>\n",
              "      <td>هربار سفارش سرد می‌رسه با اینکه در توضیحات سفارش تاکید کردم، در ضمن به جای نوشابه، اسپرایت فرستادند،</td>\n",
              "      <td>0</td>\n",
              "      <td>0</td>\n",
              "    </tr>\n",
              "    <tr>\n",
              "      <th>15</th>\n",
              "      <td>پیتزا سرد بود و گوشتهای داخلش نامرغوب</td>\n",
              "      <td>0</td>\n",
              "      <td>0</td>\n",
              "    </tr>\n",
              "    <tr>\n",
              "      <th>16</th>\n",
              "      <td>کباب کوبیده معمولی بود، اما ماهی قزل آلا بی مزه بود و بسیار بوی زخم میداد</td>\n",
              "      <td>0</td>\n",
              "      <td>0</td>\n",
              "    </tr>\n",
              "    <tr>\n",
              "      <th>17</th>\n",
              "      <td>با دلیل کیفیت پایین بسته بندی و داغ بودن غذا جعبه مقوایی به طور کامل بر روی پیتزا چسبیده بود به طوری که مجبور به دور ریختن قسمت عمده غذا شدم</td>\n",
              "      <td>0</td>\n",
              "      <td>0</td>\n",
              "    </tr>\n",
              "    <tr>\n",
              "      <th>18</th>\n",
              "      <td>سفارش به قدری دیر رسید که غذا کاملا سرد شده بود سیبزمینی از سردی بیات شده بود پیتزا و ساندویچ کاملا سرد شده بودند</td>\n",
              "      <td>0</td>\n",
              "      <td>0</td>\n",
              "    </tr>\n",
              "    <tr>\n",
              "      <th>19</th>\n",
              "      <td>سلام سالاد خوشمزه‌ای بود و ترکیباتش مناسب بود ولی مقدار فیله نسبتا کم بود و کاهوهاش بزرگ بودند بهتره بیشتر ریز شوند با تشکر</td>\n",
              "      <td>1</td>\n",
              "      <td>0</td>\n",
              "    </tr>\n",
              "    <tr>\n",
              "      <th>20</th>\n",
              "      <td>غذا خوب، تازه، گرم و خوشمزه بود با تشکر از مدیریت رستوران مهدی و همچنین تشکر ویژه از اسنپ فود</td>\n",
              "      <td>1</td>\n",
              "      <td>0</td>\n",
              "    </tr>\n",
              "    <tr>\n",
              "      <th>21</th>\n",
              "      <td>کاملا روی چیز کیک‌ها سوخته بود و به خاطر این مشکل طعمش هم خیلی بد شده بود</td>\n",
              "      <td>0</td>\n",
              "      <td>0</td>\n",
              "    </tr>\n",
              "    <tr>\n",
              "      <th>22</th>\n",
              "      <td>زیاد تعریفی نداشت خیلی حیلی معمولی بود</td>\n",
              "      <td>0</td>\n",
              "      <td>0</td>\n",
              "    </tr>\n",
              "    <tr>\n",
              "      <th>23</th>\n",
              "      <td>با کلی تاخییر، اشتباه هم تحویل دادند و عدم پشتیبانی مناسب اسنپ فود</td>\n",
              "      <td>0</td>\n",
              "      <td>0</td>\n",
              "    </tr>\n",
              "    <tr>\n",
              "      <th>24</th>\n",
              "      <td>رفتار پیک مودبانه بود</td>\n",
              "      <td>1</td>\n",
              "      <td>0</td>\n",
              "    </tr>\n",
              "    <tr>\n",
              "      <th>25</th>\n",
              "      <td>غذا کاملا سرد قارچ‌ها مزه ابلیمو میداد متاسفانه</td>\n",
              "      <td>0</td>\n",
              "      <td>0</td>\n",
              "    </tr>\n",
              "    <tr>\n",
              "      <th>26</th>\n",
              "      <td>پاستاش خیلی تند بود و سسش خوشمزه نبود</td>\n",
              "      <td>0</td>\n",
              "      <td>0</td>\n",
              "    </tr>\n",
              "    <tr>\n",
              "      <th>27</th>\n",
              "      <td>سس سیب زمینی خیلی سر و سفت بود و نمیشد ریخت روی سیب زمینی</td>\n",
              "      <td>1</td>\n",
              "      <td>0</td>\n",
              "    </tr>\n",
              "    <tr>\n",
              "      <th>28</th>\n",
              "      <td>هم سریع و هم داغ واقعا ممنونم</td>\n",
              "      <td>1</td>\n",
              "      <td>1</td>\n",
              "    </tr>\n",
              "    <tr>\n",
              "      <th>29</th>\n",
              "      <td>لطفا به سرآشپزتون بگین اینقدر گل و گیاه نزنه به غذا …نمیفهمم چرا باید به فیله استریپس آویشن بزنن …یا به سیب زمینی برگبو …کیفیت خوب بود ولی طعمشو خراب کرده بود</td>\n",
              "      <td>0</td>\n",
              "      <td>0</td>\n",
              "    </tr>\n",
              "    <tr>\n",
              "      <th>30</th>\n",
              "      <td>برش شیرینی رولت خیلی نازک بود اما هر شیرینی خوری وقتی مزه قصر زیر زبونش طنین انداز بشه جادوی شیرینی پز رو خیلی خوب حس میکنه</td>\n",
              "      <td>1</td>\n",
              "      <td>0</td>\n",
              "    </tr>\n",
              "    <tr>\n",
              "      <th>31</th>\n",
              "      <td>هرچی تعریف کنم ازتون کمه طعم پیتزاتون فوق العاده بود خوشمزه‌ترین پیتزای عمرم بود دمتون گرم</td>\n",
              "      <td>1</td>\n",
              "      <td>0</td>\n",
              "    </tr>\n",
              "    <tr>\n",
              "      <th>32</th>\n",
              "      <td>بادام هندی خرد شده بود، بدترین نوع تخمه کدو گوشتی تحویل من دادن و پسته هم به نسبت قیمت اصلا ارزش خرید نداره</td>\n",
              "      <td>0</td>\n",
              "      <td>0</td>\n",
              "    </tr>\n",
              "    <tr>\n",
              "      <th>33</th>\n",
              "      <td>اون چیزی که سفارش داده میشه نمیاد هرچیزی داشته باشند رو میارن</td>\n",
              "      <td>0</td>\n",
              "      <td>0</td>\n",
              "    </tr>\n",
              "    <tr>\n",
              "      <th>34</th>\n",
              "      <td>یکم شیرین‌تر از قبل بود که به سلیقه من خوب نبود</td>\n",
              "      <td>1</td>\n",
              "      <td>0</td>\n",
              "    </tr>\n",
              "    <tr>\n",
              "      <th>35</th>\n",
              "      <td>کاملا بی کیفیت بود بدلیل ذیغ وقت دریافت کردم</td>\n",
              "      <td>0</td>\n",
              "      <td>0</td>\n",
              "    </tr>\n",
              "    <tr>\n",
              "      <th>36</th>\n",
              "      <td>جای شیر پرچرب کم چرب ارسال شده بود</td>\n",
              "      <td>0</td>\n",
              "      <td>0</td>\n",
              "    </tr>\n",
              "    <tr>\n",
              "      <th>37</th>\n",
              "      <td>در نحوه تحویل سفارش عدم حضور پیک و گذاشتن غذا در آسانسور بدون اطلاع</td>\n",
              "      <td>0</td>\n",
              "      <td>0</td>\n",
              "    </tr>\n",
              "    <tr>\n",
              "      <th>38</th>\n",
              "      <td>آب هویج بوی خاک میداد آب سیب سیاه شده بود آب آناناس هم یک چهارمش خالی بود آب پرتغال هم تلخ تلخ بود اصلا خوب نبود کاملا ناراضی هستم</td>\n",
              "      <td>0</td>\n",
              "      <td>0</td>\n",
              "    </tr>\n",
              "    <tr>\n",
              "      <th>39</th>\n",
              "      <td>چیز کیک رزبری پنیرش زیاد بود، میزان کیکش خیلی کم بود جوریدن لازم داشت، به نظرم باید کیکش بیشتر باشه چیزش کمتر</td>\n",
              "      <td>1</td>\n",
              "      <td>0</td>\n",
              "    </tr>\n",
              "    <tr>\n",
              "      <th>40</th>\n",
              "      <td>قبل از ارسال تماس گرفتن از سوپر که بستنی مورد نظر موجود نیست پولش را همراه بقیه خرید میفرستن ولی نه پول را فرستادن نه به اعتبار اضافه شد</td>\n",
              "      <td>0</td>\n",
              "      <td>0</td>\n",
              "    </tr>\n",
              "    <tr>\n",
              "      <th>41</th>\n",
              "      <td>همیشه از اینجا خرید میکنم بهترین تو منطقه همیشه عالی بوده خوشحالم که راحت سفارش میدم و در ضمن کیفیت شیرینی عالی بود و مواد اولیه عالی</td>\n",
              "      <td>1</td>\n",
              "      <td>1</td>\n",
              "    </tr>\n",
              "    <tr>\n",
              "      <th>42</th>\n",
              "      <td>حدود  ساعت طول کشید</td>\n",
              "      <td>0</td>\n",
              "      <td>0</td>\n",
              "    </tr>\n",
              "    <tr>\n",
              "      <th>43</th>\n",
              "      <td>سفارش دادم هنوز به دستم نرسیده با توجه به نقد بد نیست البته اگه دیجی کالا ارسال ش کنه نقد هم میزارم</td>\n",
              "      <td>1</td>\n",
              "      <td>0</td>\n",
              "    </tr>\n",
              "    <tr>\n",
              "      <th>44</th>\n",
              "      <td>باسلام و سپاس از عوامل اسنپ فوت درود برشما</td>\n",
              "      <td>1</td>\n",
              "      <td>0</td>\n",
              "    </tr>\n",
              "    <tr>\n",
              "      <th>45</th>\n",
              "      <td>اصلا شبیه عکس نبود و واقعا نا مناسب بود پنکیک بدون هیچ طعم دهنده میوه‌های بی کیفیت و اینکه همه‌ی خوراکی‌ها حتی نیمرو قاطی باهم در یک ظرف بودند افتضاح</td>\n",
              "      <td>0</td>\n",
              "      <td>0</td>\n",
              "    </tr>\n",
              "    <tr>\n",
              "      <th>46</th>\n",
              "      <td>بوی ضخم گوشت خیلی بد بود و نمیشد خورد</td>\n",
              "      <td>0</td>\n",
              "      <td>0</td>\n",
              "    </tr>\n",
              "    <tr>\n",
              "      <th>47</th>\n",
              "      <td>کیک موکا اسلایسی اصلا تازه نبود مشخص بود که حداقل دو روز توی یخچال بوده از ناتالی انتظار نداشتیم</td>\n",
              "      <td>0</td>\n",
              "      <td>0</td>\n",
              "    </tr>\n",
              "    <tr>\n",
              "      <th>48</th>\n",
              "      <td>با سلام حجم ساندویچ کاملا کم و نصف نان باگت بود من که اصلا سیر نشدم حداقل ساندویچ رو از وسط نصف نکنید از نظر روانی یکم آدم راحت باشه، قبلا خیلی خوب بود در کل اصلا راضی نبودم</td>\n",
              "      <td>0</td>\n",
              "      <td>0</td>\n",
              "    </tr>\n",
              "    <tr>\n",
              "      <th>49</th>\n",
              "      <td>حجم خوب بود فقط یک سوال؟ مرغ بریان که روی آتیش درست میشه چجوری اونهمه روغن تو ظرف بود؟ خوب بود راضی هستم</td>\n",
              "      <td>1</td>\n",
              "      <td>0</td>\n",
              "    </tr>\n",
              "    <tr>\n",
              "      <th>50</th>\n",
              "      <td>مخلفات تازه و عالی خود ابگوشت هم کمی بی مزه بود ولی به نسبت قیمت با تخفیفش خوب بود مرسی</td>\n",
              "      <td>1</td>\n",
              "      <td>1</td>\n",
              "    </tr>\n",
              "    <tr>\n",
              "      <th>51</th>\n",
              "      <td>عالی بود تازه و داغ خرد و بسته بندی شده</td>\n",
              "      <td>1</td>\n",
              "      <td>1</td>\n",
              "    </tr>\n",
              "    <tr>\n",
              "      <th>52</th>\n",
              "      <td>عالی بود مثل همیشه ساندویچش رو برای اولین بار تست میکردم چقدر خوشمزه است عاشق ترکیب و نونش شدم</td>\n",
              "      <td>1</td>\n",
              "      <td>1</td>\n",
              "    </tr>\n",
              "    <tr>\n",
              "      <th>53</th>\n",
              "      <td>گوشتی که ماندیدیم بیشتر میخورد سبزیجات باشه تا گوشتو قارچ</td>\n",
              "      <td>0</td>\n",
              "      <td>0</td>\n",
              "    </tr>\n",
              "    <tr>\n",
              "      <th>54</th>\n",
              "      <td>مثل همیشه به توضیحات توجه کرده بودید و بسیار عالی بود خیلی ممنون از شما و‌پیک‌محترم تشکر</td>\n",
              "      <td>1</td>\n",
              "      <td>1</td>\n",
              "    </tr>\n",
              "    <tr>\n",
              "      <th>55</th>\n",
              "      <td>بهتره بجای حجم بالای سفیده تخم مرغ بجای خامه از خامه استفاده شود</td>\n",
              "      <td>0</td>\n",
              "      <td>0</td>\n",
              "    </tr>\n",
              "    <tr>\n",
              "      <th>56</th>\n",
              "      <td>سلام دوستان من این گوشی نسبت به آیفون   الجی وی   الجی جی   مقایسه میکنم   هر سه این گوشی ها رو دارم   قدرت پردازنده مرکزیشون و رم داخلی گوشی های الجی رو کاغذ هر سه یکسان و خیلی بالاتر از آیفون هست ولی با این حال آیفون تو بازی ها خیلی بهتر و سرتره   نکته بعدی  با اینکه  پلاس خیلی بعد از        معرفی شده ولی کیفیت دوربین سلفیش به شدت از   و دوربین پشتش از   پایین تره   حالا چرا من این گوشی گرفتم     گیگابایت حافظه داخلی با یه مموری  گیگ با یه اکانت اسپاتیفای   گزینه     روشن   هدفن بسیار عالی   ساعت ها با بهترین کیفیت صدا موزیک گوش بدید   صفحه نمایشش و همچنین قاب پشتش هم کاملا مورد جذبتون میکنه   نکته مثبت دیگه کاهش بسیار زیاد قیمت گوشی توسط خوده الجی هست که فکر میکنم الان بعد حدود یکسال از عرضه گوشی   می ارزه   اگر قاب خواستید بخرید   میتونید از قاب های   هم استفاده کنید ولی برای گلس یا ضد خش صفحه نمایش باید حتما برای    تهیه کنید</td>\n",
              "      <td>1</td>\n",
              "      <td>0</td>\n",
              "    </tr>\n",
              "    <tr>\n",
              "      <th>57</th>\n",
              "      <td>با توجه به مسافت هزینه ارسال زیاد بود و خیلی دیر رسید</td>\n",
              "      <td>1</td>\n",
              "      <td>0</td>\n",
              "    </tr>\n",
              "    <tr>\n",
              "      <th>58</th>\n",
              "      <td>به نظرم طبخش میتونست خیلی خیلی مطلوب‌تر از این باشه …</td>\n",
              "      <td>0</td>\n",
              "      <td>0</td>\n",
              "    </tr>\n",
              "    <tr>\n",
              "      <th>59</th>\n",
              "      <td>خسته نباشید میگم خدمتتون، نسبت به قیمت بسیار عالی بود امیدوارم که روز به روز بهتر از قبل باشید لطفا کیفیت را خراب نکید</td>\n",
              "      <td>1</td>\n",
              "      <td>0</td>\n",
              "    </tr>\n",
              "    <tr>\n",
              "      <th>60</th>\n",
              "      <td>تاریخ روز‌اجناس را بفرستند خوشحال میشیم</td>\n",
              "      <td>1</td>\n",
              "      <td>0</td>\n",
              "    </tr>\n",
              "    <tr>\n",
              "      <th>61</th>\n",
              "      <td>من هر بار که از این رستوران غذا سفارش میدم بیشتر از قبل عاشقش میشم کیفیت عالی حجم خوب و به اندازه، بسته بندی خوب قیمت خوب واقعا دست مریزاد و ممنونم از رستوران باگت و آشپزش که انقدر خارق العادس مرسی مرسی</td>\n",
              "      <td>1</td>\n",
              "      <td>0</td>\n",
              "    </tr>\n",
              "    <tr>\n",
              "      <th>62</th>\n",
              "      <td>خیلی بد بوو دفعه پیش هم تازه بود هم زیاد اینبار خشک بود شیره نداشت و خیلی کمتر بود فک کنم نیم کیلویی دادید اشتباهی اینبار</td>\n",
              "      <td>0</td>\n",
              "      <td>0</td>\n",
              "    </tr>\n",
              "    <tr>\n",
              "      <th>63</th>\n",
              "      <td>نان سفارش دادیم بسیار سفت و سرد</td>\n",
              "      <td>0</td>\n",
              "      <td>0</td>\n",
              "    </tr>\n",
              "    <tr>\n",
              "      <th>64</th>\n",
              "      <td>خوب بود فقط یک مقدار سیب زمینی‌ها از تازگی افتاده بود</td>\n",
              "      <td>1</td>\n",
              "      <td>0</td>\n",
              "    </tr>\n",
              "    <tr>\n",
              "      <th>65</th>\n",
              "      <td>خسته نباشید مرغ عالی بود کاملا داغ رسید فقط مقدار سیب زمینی خیلی کمتر بود</td>\n",
              "      <td>1</td>\n",
              "      <td>1</td>\n",
              "    </tr>\n",
              "    <tr>\n",
              "      <th>66</th>\n",
              "      <td>خیلی سفت بود و به بستنی بیشتر نزدیک بود</td>\n",
              "      <td>1</td>\n",
              "      <td>0</td>\n",
              "    </tr>\n",
              "    <tr>\n",
              "      <th>67</th>\n",
              "      <td>عذم ارسال کوپن پوره سیب زمینی توسط گاردن گریل</td>\n",
              "      <td>0</td>\n",
              "      <td>0</td>\n",
              "    </tr>\n",
              "    <tr>\n",
              "      <th>68</th>\n",
              "      <td>سفارش بعد از  دقیقه تازه ثبت شد و بعد از ٫ ساعت تحویل داده شد</td>\n",
              "      <td>0</td>\n",
              "      <td>0</td>\n",
              "    </tr>\n",
              "    <tr>\n",
              "      <th>69</th>\n",
              "      <td>خوب بود ولی زیادی شیرین بود موز و گردو هم خیلی کم بود</td>\n",
              "      <td>1</td>\n",
              "      <td>0</td>\n",
              "    </tr>\n",
              "    <tr>\n",
              "      <th>70</th>\n",
              "      <td>خیلی خوب بود وممنون بابت مخلفات</td>\n",
              "      <td>1</td>\n",
              "      <td>0</td>\n",
              "    </tr>\n",
              "    <tr>\n",
              "      <th>71</th>\n",
              "      <td>سرعتشون فوق العاده بود، کلا پنج دیقه نشد، کیفیت هم عالی بود …</td>\n",
              "      <td>1</td>\n",
              "      <td>1</td>\n",
              "    </tr>\n",
              "    <tr>\n",
              "      <th>72</th>\n",
              "      <td>فوق‌العاده لذیذ و سالم متشکر</td>\n",
              "      <td>1</td>\n",
              "      <td>0</td>\n",
              "    </tr>\n",
              "    <tr>\n",
              "      <th>73</th>\n",
              "      <td>عالی بود خسته نباشید</td>\n",
              "      <td>1</td>\n",
              "      <td>1</td>\n",
              "    </tr>\n",
              "    <tr>\n",
              "      <th>74</th>\n",
              "      <td>این سوپر مارکت جزو ارسال سریع‌ها بود و بسیار هم نزدیک هستند، ‌ سفارشها بعد  دقیقه تحویل داده شد</td>\n",
              "      <td>0</td>\n",
              "      <td>0</td>\n",
              "    </tr>\n",
              "    <tr>\n",
              "      <th>75</th>\n",
              "      <td>قاشق و چنگال نذاشتید با چی باید غذا رو خورد با دست</td>\n",
              "      <td>1</td>\n",
              "      <td>0</td>\n",
              "    </tr>\n",
              "    <tr>\n",
              "      <th>76</th>\n",
              "      <td>پیتزا عالی سیب زمینی پنیرش خوب نبود سیب زمینی ساده‌اش هم روش فلفل سیاه ریخته بودند کاش نمی‌ریختن</td>\n",
              "      <td>1</td>\n",
              "      <td>0</td>\n",
              "    </tr>\n",
              "    <tr>\n",
              "      <th>77</th>\n",
              "      <td>شور بودن سس تریاکی ساندویچ</td>\n",
              "      <td>0</td>\n",
              "      <td>0</td>\n",
              "    </tr>\n",
              "    <tr>\n",
              "      <th>78</th>\n",
              "      <td>بسیار خوشمزه بود مثل همیشه ممنون بخاطر سوپ و همه‌ی تازگی و خوشمزگی و تمیزی و نظم کاری شما سلامت و موفق باشید</td>\n",
              "      <td>1</td>\n",
              "      <td>1</td>\n",
              "    </tr>\n",
              "    <tr>\n",
              "      <th>79</th>\n",
              "      <td>ژل ضدعفونی کننده بس به قیمت  هزار تومن رو  هزار تومن فاکتور کردن و قیمت درج شده رو پاک کردن وقتی هم که پیگیری کردیم گفتن گرون خریدیم، همینیه که هست شما بگید اسم این کار چیه؟</td>\n",
              "      <td>0</td>\n",
              "      <td>0</td>\n",
              "    </tr>\n",
              "    <tr>\n",
              "      <th>80</th>\n",
              "      <td>بسیار بد طعم و مونده</td>\n",
              "      <td>0</td>\n",
              "      <td>0</td>\n",
              "    </tr>\n",
              "    <tr>\n",
              "      <th>81</th>\n",
              "      <td>به موقع و کامل رسید</td>\n",
              "      <td>1</td>\n",
              "      <td>0</td>\n",
              "    </tr>\n",
              "    <tr>\n",
              "      <th>82</th>\n",
              "      <td>ساندویچ مرغ با سس رمولادا مثل همیشه بسیار لذیذ و خوشمزه</td>\n",
              "      <td>1</td>\n",
              "      <td>1</td>\n",
              "    </tr>\n",
              "    <tr>\n",
              "      <th>83</th>\n",
              "      <td>خیلی زیاد بود خیلی خوشمزه بود خیلی عالی بود</td>\n",
              "      <td>1</td>\n",
              "      <td>1</td>\n",
              "    </tr>\n",
              "    <tr>\n",
              "      <th>84</th>\n",
              "      <td>یکی از خوشمزه‌ترین ساندویچایی که خوردم بوده</td>\n",
              "      <td>1</td>\n",
              "      <td>0</td>\n",
              "    </tr>\n",
              "    <tr>\n",
              "      <th>85</th>\n",
              "      <td>بسیار بسیار بی کیفیت، توی عکس سه تا کوکتل درشت هست، ولی خود ساندویچ بزرگ کلا دوتا کوکتل کوچک نصف شده دارد</td>\n",
              "      <td>0</td>\n",
              "      <td>0</td>\n",
              "    </tr>\n",
              "    <tr>\n",
              "      <th>86</th>\n",
              "      <td>افتضاح بود نون بیات محتویات کم نسبت به قیمت بالا همجوره افتضاح بود</td>\n",
              "      <td>0</td>\n",
              "      <td>0</td>\n",
              "    </tr>\n",
              "    <tr>\n",
              "      <th>87</th>\n",
              "      <td>نان‌ها هر سه عدد کاملا تلخ بودن که برام خیلی عجیب بود</td>\n",
              "      <td>0</td>\n",
              "      <td>0</td>\n",
              "    </tr>\n",
              "    <tr>\n",
              "      <th>88</th>\n",
              "      <td>فلفلش خیلی تند بود</td>\n",
              "      <td>1</td>\n",
              "      <td>0</td>\n",
              "    </tr>\n",
              "    <tr>\n",
              "      <th>89</th>\n",
              "      <td>واقعاً عالیه البته ما از دیجی کالا نخریدم ولی از نظر وضوح تصویر و صدا واقعا راضی کننده است اما اگه خواستین بخرین  اینچ و  زیاد فرق ندارن   حدود چهار پنج ماه خریدم راضی ام  الجی در زمینه نمایشگر ها رقیب نداره</td>\n",
              "      <td>1</td>\n",
              "      <td>0</td>\n",
              "    </tr>\n",
              "    <tr>\n",
              "      <th>90</th>\n",
              "      <td>در سفارش من یک بسته تخم مرغ  تایی تلاونگ بود که از  تا یک دانه کاملن پوچ، سه تا شکسته قدیمی یعنی تقصیر حمل نبود وجود داشت تاریخ تولید آن هم در شرف انقضا در یک هفته</td>\n",
              "      <td>0</td>\n",
              "      <td>0</td>\n",
              "    </tr>\n",
              "    <tr>\n",
              "      <th>91</th>\n",
              "      <td>سلام همه چی خوب بود ولی فقط یه مورد که با اصلاحش خیلی کیفیتتون میره بالاتر اینکه بجای کاغذ که میپیچید دور ساندویچ یه چیزه بهتری مث زر ورقی چیزی ک نچسبه به ساندویچ خیلی بهتر میشه چون کاغذ که میمونه رنگش در میاد در کل همه چی خوب بود</td>\n",
              "      <td>1</td>\n",
              "      <td>0</td>\n",
              "    </tr>\n",
              "    <tr>\n",
              "      <th>92</th>\n",
              "      <td>چیکن استریپس خشک، کهنه و کم حجم بود و نسبت به قیمت اصلا نمی‌ارزید گافیست کیفیت و کمیت رو با رستورانهای هم رده از نظر قیمتی در همین محدوده مقایسه کنید-</td>\n",
              "      <td>0</td>\n",
              "      <td>0</td>\n",
              "    </tr>\n",
              "    <tr>\n",
              "      <th>93</th>\n",
              "      <td>چرا آماده سازی و ارسال یک پیتزای پپرونی باید  دقیقه طول بکشه ؟</td>\n",
              "      <td>0</td>\n",
              "      <td>0</td>\n",
              "    </tr>\n",
              "    <tr>\n",
              "      <th>94</th>\n",
              "      <td>ما پاستا سفارش میدیم شما سیب زمینی و قارچ میفرستین؟</td>\n",
              "      <td>0</td>\n",
              "      <td>0</td>\n",
              "    </tr>\n",
              "    <tr>\n",
              "      <th>95</th>\n",
              "      <td>اسمش فقط سالاد سزار بود خیلی بی کیفیت و سسش هم مزه‌ی سس مایونز میداد پیتزا‌ها هم بد نبودن</td>\n",
              "      <td>0</td>\n",
              "      <td>0</td>\n",
              "    </tr>\n",
              "    <tr>\n",
              "      <th>96</th>\n",
              "      <td>بندری خیلی بد بود ولی سیب زمینی خوب بود</td>\n",
              "      <td>0</td>\n",
              "      <td>0</td>\n",
              "    </tr>\n",
              "    <tr>\n",
              "      <th>97</th>\n",
              "      <td>باقالی پلو بیشتر شبیه سبزی پلو بود دوتا دونه باقالی بیشتر نداشت سسی که توی ظرف کنار غذا بود هم به شدت بوی بدی میداد</td>\n",
              "      <td>0</td>\n",
              "      <td>0</td>\n",
              "    </tr>\n",
              "    <tr>\n",
              "      <th>98</th>\n",
              "      <td>بسته غذا خم شده و آب جوجه داخل کیسه ریخته شده بود کیفت غذا خوب نبود و تحویل پیک هم مناسب نبود سوپ به همراه غذا ارسال نشده بود</td>\n",
              "      <td>0</td>\n",
              "      <td>0</td>\n",
              "    </tr>\n",
              "    <tr>\n",
              "      <th>99</th>\n",
              "      <td>برای دومین بار برگر خام و نپخته بود</td>\n",
              "      <td>0</td>\n",
              "      <td>0</td>\n",
              "    </tr>\n",
              "  </tbody>\n",
              "</table>\n",
              "</div>\n",
              "    <div class=\"colab-df-buttons\">\n",
              "\n",
              "  <div class=\"colab-df-container\">\n",
              "    <button class=\"colab-df-convert\" onclick=\"convertToInteractive('df-c53d58b1-a6b8-4d04-98c8-205dde5747f0')\"\n",
              "            title=\"Convert this dataframe to an interactive table.\"\n",
              "            style=\"display:none;\">\n",
              "\n",
              "  <svg xmlns=\"http://www.w3.org/2000/svg\" height=\"24px\" viewBox=\"0 -960 960 960\">\n",
              "    <path d=\"M120-120v-720h720v720H120Zm60-500h600v-160H180v160Zm220 220h160v-160H400v160Zm0 220h160v-160H400v160ZM180-400h160v-160H180v160Zm440 0h160v-160H620v160ZM180-180h160v-160H180v160Zm440 0h160v-160H620v160Z\"/>\n",
              "  </svg>\n",
              "    </button>\n",
              "\n",
              "  <style>\n",
              "    .colab-df-container {\n",
              "      display:flex;\n",
              "      gap: 12px;\n",
              "    }\n",
              "\n",
              "    .colab-df-convert {\n",
              "      background-color: #E8F0FE;\n",
              "      border: none;\n",
              "      border-radius: 50%;\n",
              "      cursor: pointer;\n",
              "      display: none;\n",
              "      fill: #1967D2;\n",
              "      height: 32px;\n",
              "      padding: 0 0 0 0;\n",
              "      width: 32px;\n",
              "    }\n",
              "\n",
              "    .colab-df-convert:hover {\n",
              "      background-color: #E2EBFA;\n",
              "      box-shadow: 0px 1px 2px rgba(60, 64, 67, 0.3), 0px 1px 3px 1px rgba(60, 64, 67, 0.15);\n",
              "      fill: #174EA6;\n",
              "    }\n",
              "\n",
              "    .colab-df-buttons div {\n",
              "      margin-bottom: 4px;\n",
              "    }\n",
              "\n",
              "    [theme=dark] .colab-df-convert {\n",
              "      background-color: #3B4455;\n",
              "      fill: #D2E3FC;\n",
              "    }\n",
              "\n",
              "    [theme=dark] .colab-df-convert:hover {\n",
              "      background-color: #434B5C;\n",
              "      box-shadow: 0px 1px 3px 1px rgba(0, 0, 0, 0.15);\n",
              "      filter: drop-shadow(0px 1px 2px rgba(0, 0, 0, 0.3));\n",
              "      fill: #FFFFFF;\n",
              "    }\n",
              "  </style>\n",
              "\n",
              "    <script>\n",
              "      const buttonEl =\n",
              "        document.querySelector('#df-c53d58b1-a6b8-4d04-98c8-205dde5747f0 button.colab-df-convert');\n",
              "      buttonEl.style.display =\n",
              "        google.colab.kernel.accessAllowed ? 'block' : 'none';\n",
              "\n",
              "      async function convertToInteractive(key) {\n",
              "        const element = document.querySelector('#df-c53d58b1-a6b8-4d04-98c8-205dde5747f0');\n",
              "        const dataTable =\n",
              "          await google.colab.kernel.invokeFunction('convertToInteractive',\n",
              "                                                    [key], {});\n",
              "        if (!dataTable) return;\n",
              "\n",
              "        const docLinkHtml = 'Like what you see? Visit the ' +\n",
              "          '<a target=\"_blank\" href=https://colab.research.google.com/notebooks/data_table.ipynb>data table notebook</a>'\n",
              "          + ' to learn more about interactive tables.';\n",
              "        element.innerHTML = '';\n",
              "        dataTable['output_type'] = 'display_data';\n",
              "        await google.colab.output.renderOutput(dataTable, element);\n",
              "        const docLink = document.createElement('div');\n",
              "        docLink.innerHTML = docLinkHtml;\n",
              "        element.appendChild(docLink);\n",
              "      }\n",
              "    </script>\n",
              "  </div>\n",
              "\n",
              "\n",
              "<div id=\"df-1fe595f1-8195-4140-bd24-89398d949e68\">\n",
              "  <button class=\"colab-df-quickchart\" onclick=\"quickchart('df-1fe595f1-8195-4140-bd24-89398d949e68')\"\n",
              "            title=\"Suggest charts\"\n",
              "            style=\"display:none;\">\n",
              "\n",
              "<svg xmlns=\"http://www.w3.org/2000/svg\" height=\"24px\"viewBox=\"0 0 24 24\"\n",
              "     width=\"24px\">\n",
              "    <g>\n",
              "        <path d=\"M19 3H5c-1.1 0-2 .9-2 2v14c0 1.1.9 2 2 2h14c1.1 0 2-.9 2-2V5c0-1.1-.9-2-2-2zM9 17H7v-7h2v7zm4 0h-2V7h2v10zm4 0h-2v-4h2v4z\"/>\n",
              "    </g>\n",
              "</svg>\n",
              "  </button>\n",
              "\n",
              "<style>\n",
              "  .colab-df-quickchart {\n",
              "      --bg-color: #E8F0FE;\n",
              "      --fill-color: #1967D2;\n",
              "      --hover-bg-color: #E2EBFA;\n",
              "      --hover-fill-color: #174EA6;\n",
              "      --disabled-fill-color: #AAA;\n",
              "      --disabled-bg-color: #DDD;\n",
              "  }\n",
              "\n",
              "  [theme=dark] .colab-df-quickchart {\n",
              "      --bg-color: #3B4455;\n",
              "      --fill-color: #D2E3FC;\n",
              "      --hover-bg-color: #434B5C;\n",
              "      --hover-fill-color: #FFFFFF;\n",
              "      --disabled-bg-color: #3B4455;\n",
              "      --disabled-fill-color: #666;\n",
              "  }\n",
              "\n",
              "  .colab-df-quickchart {\n",
              "    background-color: var(--bg-color);\n",
              "    border: none;\n",
              "    border-radius: 50%;\n",
              "    cursor: pointer;\n",
              "    display: none;\n",
              "    fill: var(--fill-color);\n",
              "    height: 32px;\n",
              "    padding: 0;\n",
              "    width: 32px;\n",
              "  }\n",
              "\n",
              "  .colab-df-quickchart:hover {\n",
              "    background-color: var(--hover-bg-color);\n",
              "    box-shadow: 0 1px 2px rgba(60, 64, 67, 0.3), 0 1px 3px 1px rgba(60, 64, 67, 0.15);\n",
              "    fill: var(--button-hover-fill-color);\n",
              "  }\n",
              "\n",
              "  .colab-df-quickchart-complete:disabled,\n",
              "  .colab-df-quickchart-complete:disabled:hover {\n",
              "    background-color: var(--disabled-bg-color);\n",
              "    fill: var(--disabled-fill-color);\n",
              "    box-shadow: none;\n",
              "  }\n",
              "\n",
              "  .colab-df-spinner {\n",
              "    border: 2px solid var(--fill-color);\n",
              "    border-color: transparent;\n",
              "    border-bottom-color: var(--fill-color);\n",
              "    animation:\n",
              "      spin 1s steps(1) infinite;\n",
              "  }\n",
              "\n",
              "  @keyframes spin {\n",
              "    0% {\n",
              "      border-color: transparent;\n",
              "      border-bottom-color: var(--fill-color);\n",
              "      border-left-color: var(--fill-color);\n",
              "    }\n",
              "    20% {\n",
              "      border-color: transparent;\n",
              "      border-left-color: var(--fill-color);\n",
              "      border-top-color: var(--fill-color);\n",
              "    }\n",
              "    30% {\n",
              "      border-color: transparent;\n",
              "      border-left-color: var(--fill-color);\n",
              "      border-top-color: var(--fill-color);\n",
              "      border-right-color: var(--fill-color);\n",
              "    }\n",
              "    40% {\n",
              "      border-color: transparent;\n",
              "      border-right-color: var(--fill-color);\n",
              "      border-top-color: var(--fill-color);\n",
              "    }\n",
              "    60% {\n",
              "      border-color: transparent;\n",
              "      border-right-color: var(--fill-color);\n",
              "    }\n",
              "    80% {\n",
              "      border-color: transparent;\n",
              "      border-right-color: var(--fill-color);\n",
              "      border-bottom-color: var(--fill-color);\n",
              "    }\n",
              "    90% {\n",
              "      border-color: transparent;\n",
              "      border-bottom-color: var(--fill-color);\n",
              "    }\n",
              "  }\n",
              "</style>\n",
              "\n",
              "  <script>\n",
              "    async function quickchart(key) {\n",
              "      const quickchartButtonEl =\n",
              "        document.querySelector('#' + key + ' button');\n",
              "      quickchartButtonEl.disabled = true;  // To prevent multiple clicks.\n",
              "      quickchartButtonEl.classList.add('colab-df-spinner');\n",
              "      try {\n",
              "        const charts = await google.colab.kernel.invokeFunction(\n",
              "            'suggestCharts', [key], {});\n",
              "      } catch (error) {\n",
              "        console.error('Error during call to suggestCharts:', error);\n",
              "      }\n",
              "      quickchartButtonEl.classList.remove('colab-df-spinner');\n",
              "      quickchartButtonEl.classList.add('colab-df-quickchart-complete');\n",
              "    }\n",
              "    (() => {\n",
              "      let quickchartButtonEl =\n",
              "        document.querySelector('#df-1fe595f1-8195-4140-bd24-89398d949e68 button');\n",
              "      quickchartButtonEl.style.display =\n",
              "        google.colab.kernel.accessAllowed ? 'block' : 'none';\n",
              "    })();\n",
              "  </script>\n",
              "</div>\n",
              "    </div>\n",
              "  </div>\n"
            ],
            "text/plain": [
              "                                                                                                                                                                                                                                                                                                                                                                                                                                                                                                                                                                                                                                                                                                                                                                                                                                                                            text  \\\n",
              "0                                                                                                                                                                                                                                                                                                                                                                                                                                                                                                                                                                                                                                                                                        این هندس فری تازه به دستم رسیده  و برای کسایی که انتظار شنیدن یک موسیقی با کیفیت دارن حتما پیشنهاد میکنم  بعد از شنیدن آهنگ با این هدست آدم به این فکر میکنه انگار تا حالا آهنگ نشنیده    \n",
              "1                                                                                                                                                                                                                                                                                                                                                                                                                                                                                                                                                                                                                                                                                                                                                                                                                                    عالی بود عالی، امیدوارم کیفیت همینجور بمونه   \n",
              "2                                                                                                                                                                                                                                                                                                                                                                                                                                                                                                                                                                                                                                                                                                                     من وقتی این ایرباد به لپ تاپ ایسوس  وصل میکنم و با نرم افزار حرفه ای   آهنگها را پخش میکنم   صدای گرم و شفافی بهم میده و نهایت قدرت این ایرباد نشون میده     \n",
              "3                                                                                                                                                                                                                                                                                                                                                                                                                                                                                                                                                                                                                                                                      با عرض سلام ضمن عرض خسته نباشید چلوکباب کوبیده سفارشی بسیار عالی بود ولی جوجه در چلو جوجه کباب مخصوص قدری خشک بود در مجموع از نحوه سرویس دهی و زمان بندی و کیفیت غذا رضایت کامل داشته و تشکر فراوان دارم    \n",
              "4                                                                                                                                                                                                                                                                                                                                                                                                                                                                                                                                                                                                                                                                                                                                                                                           خوشمزه و داغ مخصوصا با سس چیلی که فرستاده بودن بسیار خوب بود ممنون ازجوجه داغ و اسنپ   \n",
              "5                                                                                                                                                                                                                                                                                                                                                                                                                                                                                                                                                                                                                                                                متاسفانه با وجود تاکید زیاد به خشک و برشته نبودن نان‌ها، نان سنگک به قدری خشک و بیسکویتی بود که قسمت عمده آن در بسته بندی کاملا خرد شده بود اطراف نان کاملا سوخته بود واقعا ناراضی بودم و خرید مجدد نخواهم کرد    \n",
              "6                                                                                                                                                                                                                                                                                                                                                                                                                                                                                                                                                                                                                                                                                                                                    طعم چیزکیک اوکی بود عالی نبود ولی اوکی بود اما بسته‌بندی و ارسالش بسیار نامناسب بود کیک کاملا از ریخت افتاده و به بدنه‌های جعبه مالیده بود    \n",
              "7                                                                                                                                                                                                                                                                                                                                                                                                                                                                                                                                                                                                                                                                                                                                                                                                                                             جوجه کباب خیلی پخته و خشک شده بود    \n",
              "8                                                                                                                                                                                                                                                                                                                                                                                                                                                                                                                                                                                                                                                                                                                                                                                                    سالاد فصل بسیار کیفیت بدی داشت وکاهوداخل ساندویچ از کیفیت خوبی برخوردارنبود   \n",
              "9                                                                                                                                                                                                                                                                                                                                                                                                                                                                                                                                                                                                                                                                                                                                                                                                                                من  تا مایع ظرفشویی سفارش دادم ولی یکی ارسال شد   \n",
              "10                                                                                                                                                                                                                                                                                                                                                                                                                                                                                                                                                                                                                                                                 فقط‌میتونم بگم واقعا متاسفم واسه یه رستورانی که واقعا سال پیش فوق العاده بود و الان انقدر افت کرده سیب زمینی   بسته پر شده بود و پیتزا خانوادش حتی اندازه ی‌ پیتزا  نفره جاهای دیگه مخلفات نداشت واقعا متاسفم   \n",
              "11                                                                                                                                                                                                                                                                                                                                                                                                                                                                                                                                                                                                                                                                                                                                                                                                    عالی بود زمان بندی بسته بندی کیفیت و کمیت مخصوصا دورچین غذا واقعا عالی بود   \n",
              "12                                                                                                                                                                                                                                                                                                                                                                                                                                                                                                                                                                                                                                                                                                                                                                                                                                   کیفیت اصلا خوب نبود، خمیر بود، دیگه نمیگیرم   \n",
              "13                                                                                                                                                                                                                                                                                                                                                                                                                                                                                                                                                                                                                                                                                                                                                                                                این کیک  نفره هم نیست ولی روش نوشته تا  نفر ابروم رفت واقعا اطلاعات غلط نذارین   \n",
              "14                                                                                                                                                                                                                                                                                                                                                                                                                                                                                                                                                                                                                                                                                                                                                                          هربار سفارش سرد می‌رسه با اینکه در توضیحات سفارش تاکید کردم، در ضمن به جای نوشابه، اسپرایت فرستادند،   \n",
              "15                                                                                                                                                                                                                                                                                                                                                                                                                                                                                                                                                                                                                                                                                                                                                                                                                                         پیتزا سرد بود و گوشتهای داخلش نامرغوب   \n",
              "16                                                                                                                                                                                                                                                                                                                                                                                                                                                                                                                                                                                                                                                                                                                                                                                                    کباب کوبیده معمولی بود، اما ماهی قزل آلا بی مزه بود و بسیار بوی زخم میداد    \n",
              "17                                                                                                                                                                                                                                                                                                                                                                                                                                                                                                                                                                                                                                                                                                                                 با دلیل کیفیت پایین بسته بندی و داغ بودن غذا جعبه مقوایی به طور کامل بر روی پیتزا چسبیده بود به طوری که مجبور به دور ریختن قسمت عمده غذا شدم    \n",
              "18                                                                                                                                                                                                                                                                                                                                                                                                                                                                                                                                                                                                                                                                                                                                                            سفارش به قدری دیر رسید که غذا کاملا سرد شده بود سیبزمینی از سردی بیات شده بود پیتزا و ساندویچ کاملا سرد شده بودند    \n",
              "19                                                                                                                                                                                                                                                                                                                                                                                                                                                                                                                                                                                                                                                                                                                                                   سلام سالاد خوشمزه‌ای بود و ترکیباتش مناسب بود ولی مقدار فیله نسبتا کم بود و کاهوهاش بزرگ بودند بهتره بیشتر ریز شوند با تشکر   \n",
              "20                                                                                                                                                                                                                                                                                                                                                                                                                                                                                                                                                                                                                                                                                                                                                                                 غذا خوب، تازه، گرم و خوشمزه بود با تشکر از مدیریت رستوران مهدی و همچنین تشکر ویژه از اسنپ فود   \n",
              "21                                                                                                                                                                                                                                                                                                                                                                                                                                                                                                                                                                                                                                                                                                                                                                                                     کاملا روی چیز کیک‌ها سوخته بود و به خاطر این مشکل طعمش هم خیلی بد شده بود   \n",
              "22                                                                                                                                                                                                                                                                                                                                                                                                                                                                                                                                                                                                                                                                                                                                                                                                                                        زیاد تعریفی نداشت خیلی حیلی معمولی بود   \n",
              "23                                                                                                                                                                                                                                                                                                                                                                                                                                                                                                                                                                                                                                                                                                                                                                                                            با کلی تاخییر، اشتباه هم تحویل دادند و عدم پشتیبانی مناسب اسنپ فود   \n",
              "24                                                                                                                                                                                                                                                                                                                                                                                                                                                                                                                                                                                                                                                                                                                                                                                                                                                         رفتار پیک مودبانه بود   \n",
              "25                                                                                                                                                                                                                                                                                                                                                                                                                                                                                                                                                                                                                                                                                                                                                                                                                               غذا کاملا سرد قارچ‌ها مزه ابلیمو میداد متاسفانه   \n",
              "26                                                                                                                                                                                                                                                                                                                                                                                                                                                                                                                                                                                                                                                                                                                                                                                                                                         پاستاش خیلی تند بود و سسش خوشمزه نبود   \n",
              "27                                                                                                                                                                                                                                                                                                                                                                                                                                                                                                                                                                                                                                                                                                                                                                                                                     سس سیب زمینی خیلی سر و سفت بود و نمیشد ریخت روی سیب زمینی   \n",
              "28                                                                                                                                                                                                                                                                                                                                                                                                                                                                                                                                                                                                                                                                                                                                                                                                                                                 هم سریع و هم داغ واقعا ممنونم   \n",
              "29                                                                                                                                                                                                                                                                                                                                                                                                                                                                                                                                                                                                                                                                                                                لطفا به سرآشپزتون بگین اینقدر گل و گیاه نزنه به غذا …نمیفهمم چرا باید به فیله استریپس آویشن بزنن …یا به سیب زمینی برگبو …کیفیت خوب بود ولی طعمشو خراب کرده بود   \n",
              "30                                                                                                                                                                                                                                                                                                                                                                                                                                                                                                                                                                                                                                                                                                                                                   برش شیرینی رولت خیلی نازک بود اما هر شیرینی خوری وقتی مزه قصر زیر زبونش طنین انداز بشه جادوی شیرینی پز رو خیلی خوب حس میکنه   \n",
              "31                                                                                                                                                                                                                                                                                                                                                                                                                                                                                                                                                                                                                                                                                                                                                                                    هرچی تعریف کنم ازتون کمه طعم پیتزاتون فوق العاده بود خوشمزه‌ترین پیتزای عمرم بود دمتون گرم   \n",
              "32                                                                                                                                                                                                                                                                                                                                                                                                                                                                                                                                                                                                                                                                                                                                                                   بادام هندی خرد شده بود، بدترین نوع تخمه کدو گوشتی تحویل من دادن و پسته هم به نسبت قیمت اصلا ارزش خرید نداره   \n",
              "33                                                                                                                                                                                                                                                                                                                                                                                                                                                                                                                                                                                                                                                                                                                                                                                                                 اون چیزی که سفارش داده میشه نمیاد هرچیزی داشته باشند رو میارن   \n",
              "34                                                                                                                                                                                                                                                                                                                                                                                                                                                                                                                                                                                                                                                                                                                                                                                                                               یکم شیرین‌تر از قبل بود که به سلیقه من خوب نبود   \n",
              "35                                                                                                                                                                                                                                                                                                                                                                                                                                                                                                                                                                                                                                                                                                                                                                                                                                  کاملا بی کیفیت بود بدلیل ذیغ وقت دریافت کردم   \n",
              "36                                                                                                                                                                                                                                                                                                                                                                                                                                                                                                                                                                                                                                                                                                                                                                                                                                           جای شیر پرچرب کم چرب ارسال شده بود    \n",
              "37                                                                                                                                                                                                                                                                                                                                                                                                                                                                                                                                                                                                                                                                                                                                                                                                           در نحوه تحویل سفارش عدم حضور پیک و گذاشتن غذا در آسانسور بدون اطلاع   \n",
              "38                                                                                                                                                                                                                                                                                                                                                                                                                                                                                                                                                                                                                                                                                                                                            آب هویج بوی خاک میداد آب سیب سیاه شده بود آب آناناس هم یک چهارمش خالی بود آب پرتغال هم تلخ تلخ بود اصلا خوب نبود کاملا ناراضی هستم   \n",
              "39                                                                                                                                                                                                                                                                                                                                                                                                                                                                                                                                                                                                                                                                                                                                                                چیز کیک رزبری پنیرش زیاد بود، میزان کیکش خیلی کم بود جوریدن لازم داشت، به نظرم باید کیکش بیشتر باشه چیزش کمتر    \n",
              "40                                                                                                                                                                                                                                                                                                                                                                                                                                                                                                                                                                                                                                                                                                                                      قبل از ارسال تماس گرفتن از سوپر که بستنی مورد نظر موجود نیست پولش را همراه بقیه خرید میفرستن ولی نه پول را فرستادن نه به اعتبار اضافه شد   \n",
              "41                                                                                                                                                                                                                                                                                                                                                                                                                                                                                                                                                                                                                                                                                                                                         همیشه از اینجا خرید میکنم بهترین تو منطقه همیشه عالی بوده خوشحالم که راحت سفارش میدم و در ضمن کیفیت شیرینی عالی بود و مواد اولیه عالی   \n",
              "42                                                                                                                                                                                                                                                                                                                                                                                                                                                                                                                                                                                                                                                                                                                                                                                                                                                           حدود  ساعت طول کشید   \n",
              "43                                                                                                                                                                                                                                                                                                                                                                                                                                                                                                                                                                                                                                                                                                                                                                          سفارش دادم هنوز به دستم نرسیده با توجه به نقد بد نیست البته اگه دیجی کالا ارسال ش کنه نقد هم میزارم    \n",
              "44                                                                                                                                                                                                                                                                                                                                                                                                                                                                                                                                                                                                                                                                                                                                                                                                                                    باسلام و سپاس از عوامل اسنپ فوت درود برشما   \n",
              "45                                                                                                                                                                                                                                                                                                                                                                                                                                                                                                                                                                                                                                                                                                                         اصلا شبیه عکس نبود و واقعا نا مناسب بود پنکیک بدون هیچ طعم دهنده میوه‌های بی کیفیت و اینکه همه‌ی خوراکی‌ها حتی نیمرو قاطی باهم در یک ظرف بودند افتضاح   \n",
              "46                                                                                                                                                                                                                                                                                                                                                                                                                                                                                                                                                                                                                                                                                                                                                                                                                                         بوی ضخم گوشت خیلی بد بود و نمیشد خورد   \n",
              "47                                                                                                                                                                                                                                                                                                                                                                                                                                                                                                                                                                                                                                                                                                                                                                             کیک موکا اسلایسی اصلا تازه نبود مشخص بود که حداقل دو روز توی یخچال بوده از ناتالی انتظار نداشتیم    \n",
              "48                                                                                                                                                                                                                                                                                                                                                                                                                                                                                                                                                                                                                                                                                                با سلام حجم ساندویچ کاملا کم و نصف نان باگت بود من که اصلا سیر نشدم حداقل ساندویچ رو از وسط نصف نکنید از نظر روانی یکم آدم راحت باشه، قبلا خیلی خوب بود در کل اصلا راضی نبودم    \n",
              "49                                                                                                                                                                                                                                                                                                                                                                                                                                                                                                                                                                                                                                                                                                                                                                      حجم خوب بود فقط یک سوال؟ مرغ بریان که روی آتیش درست میشه چجوری اونهمه روغن تو ظرف بود؟ خوب بود راضی هستم   \n",
              "50                                                                                                                                                                                                                                                                                                                                                                                                                                                                                                                                                                                                                                                                                                                                                                                       مخلفات تازه و عالی خود ابگوشت هم کمی بی مزه بود ولی به نسبت قیمت با تخفیفش خوب بود مرسی   \n",
              "51                                                                                                                                                                                                                                                                                                                                                                                                                                                                                                                                                                                                                                                                                                                                                                                                                                       عالی بود تازه و داغ خرد و بسته بندی شده   \n",
              "52                                                                                                                                                                                                                                                                                                                                                                                                                                                                                                                                                                                                                                                                                                                                                                              عالی بود مثل همیشه ساندویچش رو برای اولین بار تست میکردم چقدر خوشمزه است عاشق ترکیب و نونش شدم     \n",
              "53                                                                                                                                                                                                                                                                                                                                                                                                                                                                                                                                                                                                                                                                                                                                                                                                                     گوشتی که ماندیدیم بیشتر میخورد سبزیجات باشه تا گوشتو قارچ   \n",
              "54                                                                                                                                                                                                                                                                                                                                                                                                                                                                                                                                                                                                                                                                                                                                                                                      مثل همیشه به توضیحات توجه کرده بودید و بسیار عالی بود خیلی ممنون از شما و‌پیک‌محترم تشکر   \n",
              "55                                                                                                                                                                                                                                                                                                                                                                                                                                                                                                                                                                                                                                                                                                                                                                                                             بهتره بجای حجم بالای سفیده تخم مرغ بجای خامه از خامه استفاده شود    \n",
              "56  سلام دوستان من این گوشی نسبت به آیفون   الجی وی   الجی جی   مقایسه میکنم   هر سه این گوشی ها رو دارم   قدرت پردازنده مرکزیشون و رم داخلی گوشی های الجی رو کاغذ هر سه یکسان و خیلی بالاتر از آیفون هست ولی با این حال آیفون تو بازی ها خیلی بهتر و سرتره   نکته بعدی  با اینکه  پلاس خیلی بعد از        معرفی شده ولی کیفیت دوربین سلفیش به شدت از   و دوربین پشتش از   پایین تره   حالا چرا من این گوشی گرفتم     گیگابایت حافظه داخلی با یه مموری  گیگ با یه اکانت اسپاتیفای   گزینه     روشن   هدفن بسیار عالی   ساعت ها با بهترین کیفیت صدا موزیک گوش بدید   صفحه نمایشش و همچنین قاب پشتش هم کاملا مورد جذبتون میکنه   نکته مثبت دیگه کاهش بسیار زیاد قیمت گوشی توسط خوده الجی هست که فکر میکنم الان بعد حدود یکسال از عرضه گوشی   می ارزه   اگر قاب خواستید بخرید   میتونید از قاب های   هم استفاده کنید ولی برای گلس یا ضد خش صفحه نمایش باید حتما برای    تهیه کنید     \n",
              "57                                                                                                                                                                                                                                                                                                                                                                                                                                                                                                                                                                                                                                                                                                                                                                                                                        با توجه به مسافت هزینه ارسال زیاد بود و خیلی دیر رسید    \n",
              "58                                                                                                                                                                                                                                                                                                                                                                                                                                                                                                                                                                                                                                                                                                                                                                                                                         به نظرم طبخش میتونست خیلی خیلی مطلوب‌تر از این باشه …   \n",
              "59                                                                                                                                                                                                                                                                                                                                                                                                                                                                                                                                                                                                                                                                                                                                                       خسته نباشید میگم خدمتتون، نسبت به قیمت بسیار عالی بود امیدوارم که روز به روز بهتر از قبل باشید لطفا کیفیت را خراب نکید    \n",
              "60                                                                                                                                                                                                                                                                                                                                                                                                                                                                                                                                                                                                                                                                                                                                                                                                                                       تاریخ روز‌اجناس را بفرستند خوشحال میشیم   \n",
              "61                                                                                                                                                                                                                                                                                                                                                                                                                                                                                                                                                                                                                                                                    من هر بار که از این رستوران غذا سفارش میدم بیشتر از قبل عاشقش میشم کیفیت عالی حجم خوب و به اندازه، بسته بندی خوب قیمت خوب واقعا دست مریزاد و ممنونم از رستوران باگت و آشپزش که انقدر خارق العادس مرسی مرسی   \n",
              "62                                                                                                                                                                                                                                                                                                                                                                                                                                                                                                                                                                                                                                                                                                                                                     خیلی بد بوو دفعه پیش هم تازه بود هم زیاد اینبار خشک بود شیره نداشت و خیلی کمتر بود فک کنم نیم کیلویی دادید اشتباهی اینبار   \n",
              "63                                                                                                                                                                                                                                                                                                                                                                                                                                                                                                                                                                                                                                                                                                                                                                                                                                               نان سفارش دادیم بسیار سفت و سرد   \n",
              "64                                                                                                                                                                                                                                                                                                                                                                                                                                                                                                                                                                                                                                                                                                                                                                                                                         خوب بود فقط یک مقدار سیب زمینی‌ها از تازگی افتاده بود   \n",
              "65                                                                                                                                                                                                                                                                                                                                                                                                                                                                                                                                                                                                                                                                                                                                                                                                     خسته نباشید مرغ عالی بود کاملا داغ رسید فقط مقدار سیب زمینی خیلی کمتر بود   \n",
              "66                                                                                                                                                                                                                                                                                                                                                                                                                                                                                                                                                                                                                                                                                                                                                                                                                                      خیلی سفت بود و به بستنی بیشتر نزدیک بود    \n",
              "67                                                                                                                                                                                                                                                                                                                                                                                                                                                                                                                                                                                                                                                                                                                                                                                                                                 عذم ارسال کوپن پوره سیب زمینی توسط گاردن گریل   \n",
              "68                                                                                                                                                                                                                                                                                                                                                                                                                                                                                                                                                                                                                                                                                                                                                                                                                 سفارش بعد از  دقیقه تازه ثبت شد و بعد از ٫ ساعت تحویل داده شد   \n",
              "69                                                                                                                                                                                                                                                                                                                                                                                                                                                                                                                                                                                                                                                                                                                                                                                                                         خوب بود ولی زیادی شیرین بود موز و گردو هم خیلی کم بود   \n",
              "70                                                                                                                                                                                                                                                                                                                                                                                                                                                                                                                                                                                                                                                                                                                                                                                                                                               خیلی خوب بود وممنون بابت مخلفات   \n",
              "71                                                                                                                                                                                                                                                                                                                                                                                                                                                                                                                                                                                                                                                                                                                                                                                                                 سرعتشون فوق العاده بود، کلا پنج دیقه نشد، کیفیت هم عالی بود …   \n",
              "72                                                                                                                                                                                                                                                                                                                                                                                                                                                                                                                                                                                                                                                                                                                                                                                                                                                  فوق‌العاده لذیذ و سالم متشکر   \n",
              "73                                                                                                                                                                                                                                                                                                                                                                                                                                                                                                                                                                                                                                                                                                                                                                                                                                                          عالی بود خسته نباشید   \n",
              "74                                                                                                                                                                                                                                                                                                                                                                                                                                                                                                                                                                                                                                                                                                                                                                               این سوپر مارکت جزو ارسال سریع‌ها بود و بسیار هم نزدیک هستند، ‌ سفارشها بعد  دقیقه تحویل داده شد   \n",
              "75                                                                                                                                                                                                                                                                                                                                                                                                                                                                                                                                                                                                                                                                                                                                                                                                                            قاشق و چنگال نذاشتید با چی باید غذا رو خورد با دست   \n",
              "76                                                                                                                                                                                                                                                                                                                                                                                                                                                                                                                                                                                                                                                                                                                                                                              پیتزا عالی سیب زمینی پنیرش خوب نبود سیب زمینی ساده‌اش هم روش فلفل سیاه ریخته بودند کاش نمی‌ریختن   \n",
              "77                                                                                                                                                                                                                                                                                                                                                                                                                                                                                                                                                                                                                                                                                                                                                                                                                                                    شور بودن سس تریاکی ساندویچ   \n",
              "78                                                                                                                                                                                                                                                                                                                                                                                                                                                                                                                                                                                                                                                                                                                                                                 بسیار خوشمزه بود مثل همیشه ممنون بخاطر سوپ و همه‌ی تازگی و خوشمزگی و تمیزی و نظم کاری شما سلامت و موفق باشید    \n",
              "79                                                                                                                                                                                                                                                                                                                                                                                                                                                                                                                                                                                                                                                                                                 ژل ضدعفونی کننده بس به قیمت  هزار تومن رو  هزار تومن فاکتور کردن و قیمت درج شده رو پاک کردن وقتی هم که پیگیری کردیم گفتن گرون خریدیم، همینیه که هست شما بگید اسم این کار چیه؟   \n",
              "80                                                                                                                                                                                                                                                                                                                                                                                                                                                                                                                                                                                                                                                                                                                                                                                                                                                          بسیار بد طعم و مونده   \n",
              "81                                                                                                                                                                                                                                                                                                                                                                                                                                                                                                                                                                                                                                                                                                                                                                                                                                                           به موقع و کامل رسید   \n",
              "82                                                                                                                                                                                                                                                                                                                                                                                                                                                                                                                                                                                                                                                                                                                                                                                                                       ساندویچ مرغ با سس رمولادا مثل همیشه بسیار لذیذ و خوشمزه   \n",
              "83                                                                                                                                                                                                                                                                                                                                                                                                                                                                                                                                                                                                                                                                                                                                                                                                                                   خیلی زیاد بود خیلی خوشمزه بود خیلی عالی بود   \n",
              "84                                                                                                                                                                                                                                                                                                                                                                                                                                                                                                                                                                                                                                                                                                                                                                                                                                   یکی از خوشمزه‌ترین ساندویچایی که خوردم بوده   \n",
              "85                                                                                                                                                                                                                                                                                                                                                                                                                                                                                                                                                                                                                                                                                                                                                                     بسیار بسیار بی کیفیت، توی عکس سه تا کوکتل درشت هست، ولی خود ساندویچ بزرگ کلا دوتا کوکتل کوچک نصف شده دارد   \n",
              "86                                                                                                                                                                                                                                                                                                                                                                                                                                                                                                                                                                                                                                                                                                                                                                                                            افتضاح بود نون بیات محتویات کم نسبت به قیمت بالا همجوره افتضاح بود   \n",
              "87                                                                                                                                                                                                                                                                                                                                                                                                                                                                                                                                                                                                                                                                                                                                                                                                                         نان‌ها هر سه عدد کاملا تلخ بودن که برام خیلی عجیب بود   \n",
              "88                                                                                                                                                                                                                                                                                                                                                                                                                                                                                                                                                                                                                                                                                                                                                                                                                                                           فلفلش خیلی تند بود    \n",
              "89                                                                                                                                                                                                                                                                                                                                                                                                                                                                                                                                                                                                                                                             واقعاً عالیه البته ما از دیجی کالا نخریدم ولی از نظر وضوح تصویر و صدا واقعا راضی کننده است اما اگه خواستین بخرین  اینچ و  زیاد فرق ندارن   حدود چهار پنج ماه خریدم راضی ام  الجی در زمینه نمایشگر ها رقیب نداره     \n",
              "90                                                                                                                                                                                                                                                                                                                                                                                                                                                                                                                                                                                                                                                                                                          در سفارش من یک بسته تخم مرغ  تایی تلاونگ بود که از  تا یک دانه کاملن پوچ، سه تا شکسته قدیمی یعنی تقصیر حمل نبود وجود داشت تاریخ تولید آن هم در شرف انقضا در یک هفته    \n",
              "91                                                                                                                                                                                                                                                                                                                                                                                                                                                                                                                                                                                                                                        سلام همه چی خوب بود ولی فقط یه مورد که با اصلاحش خیلی کیفیتتون میره بالاتر اینکه بجای کاغذ که میپیچید دور ساندویچ یه چیزه بهتری مث زر ورقی چیزی ک نچسبه به ساندویچ خیلی بهتر میشه چون کاغذ که میمونه رنگش در میاد در کل همه چی خوب بود   \n",
              "92                                                                                                                                                                                                                                                                                                                                                                                                                                                                                                                                                                                                                                                                                                                       چیکن استریپس خشک، کهنه و کم حجم بود و نسبت به قیمت اصلا نمی‌ارزید گافیست کیفیت و کمیت رو با رستورانهای هم رده از نظر قیمتی در همین محدوده مقایسه کنید-    \n",
              "93                                                                                                                                                                                                                                                                                                                                                                                                                                                                                                                                                                                                                                                                                                                                                                                                                چرا آماده سازی و ارسال یک پیتزای پپرونی باید  دقیقه طول بکشه ؟   \n",
              "94                                                                                                                                                                                                                                                                                                                                                                                                                                                                                                                                                                                                                                                                                                                                                                                                                           ما پاستا سفارش میدیم شما سیب زمینی و قارچ میفرستین؟   \n",
              "95                                                                                                                                                                                                                                                                                                                                                                                                                                                                                                                                                                                                                                                                                                                                                                                    اسمش فقط سالاد سزار بود خیلی بی کیفیت و سسش هم مزه‌ی سس مایونز میداد پیتزا‌ها هم بد نبودن    \n",
              "96                                                                                                                                                                                                                                                                                                                                                                                                                                                                                                                                                                                                                                                                                                                                                                                                                                       بندری خیلی بد بود ولی سیب زمینی خوب بود   \n",
              "97                                                                                                                                                                                                                                                                                                                                                                                                                                                                                                                                                                                                                                                                                                                                                          باقالی پلو بیشتر شبیه سبزی پلو بود دوتا دونه باقالی بیشتر نداشت سسی که توی ظرف کنار غذا بود هم به شدت بوی بدی میداد    \n",
              "98                                                                                                                                                                                                                                                                                                                                                                                                                                                                                                                                                                                                                                                                                                                                                بسته غذا خم شده و آب جوجه داخل کیسه ریخته شده بود کیفت غذا خوب نبود و تحویل پیک هم مناسب نبود سوپ به همراه غذا ارسال نشده بود    \n",
              "99                                                                                                                                                                                                                                                                                                                                                                                                                                                                                                                                                                                                                                                                                                                                                                                                                                          برای دومین بار برگر خام و نپخته بود    \n",
              "\n",
              "    label  cluster  \n",
              "0       1        0  \n",
              "1       1        1  \n",
              "2       1        0  \n",
              "3       1        0  \n",
              "4       1        1  \n",
              "5       0        0  \n",
              "6       0        0  \n",
              "7       0        0  \n",
              "8       0        0  \n",
              "9       0        0  \n",
              "10      0        0  \n",
              "11      1        1  \n",
              "12      0        0  \n",
              "13      0        0  \n",
              "14      0        0  \n",
              "15      0        0  \n",
              "16      0        0  \n",
              "17      0        0  \n",
              "18      0        0  \n",
              "19      1        0  \n",
              "20      1        0  \n",
              "21      0        0  \n",
              "22      0        0  \n",
              "23      0        0  \n",
              "24      1        0  \n",
              "25      0        0  \n",
              "26      0        0  \n",
              "27      1        0  \n",
              "28      1        1  \n",
              "29      0        0  \n",
              "30      1        0  \n",
              "31      1        0  \n",
              "32      0        0  \n",
              "33      0        0  \n",
              "34      1        0  \n",
              "35      0        0  \n",
              "36      0        0  \n",
              "37      0        0  \n",
              "38      0        0  \n",
              "39      1        0  \n",
              "40      0        0  \n",
              "41      1        1  \n",
              "42      0        0  \n",
              "43      1        0  \n",
              "44      1        0  \n",
              "45      0        0  \n",
              "46      0        0  \n",
              "47      0        0  \n",
              "48      0        0  \n",
              "49      1        0  \n",
              "50      1        1  \n",
              "51      1        1  \n",
              "52      1        1  \n",
              "53      0        0  \n",
              "54      1        1  \n",
              "55      0        0  \n",
              "56      1        0  \n",
              "57      1        0  \n",
              "58      0        0  \n",
              "59      1        0  \n",
              "60      1        0  \n",
              "61      1        0  \n",
              "62      0        0  \n",
              "63      0        0  \n",
              "64      1        0  \n",
              "65      1        1  \n",
              "66      1        0  \n",
              "67      0        0  \n",
              "68      0        0  \n",
              "69      1        0  \n",
              "70      1        0  \n",
              "71      1        1  \n",
              "72      1        0  \n",
              "73      1        1  \n",
              "74      0        0  \n",
              "75      1        0  \n",
              "76      1        0  \n",
              "77      0        0  \n",
              "78      1        1  \n",
              "79      0        0  \n",
              "80      0        0  \n",
              "81      1        0  \n",
              "82      1        1  \n",
              "83      1        1  \n",
              "84      1        0  \n",
              "85      0        0  \n",
              "86      0        0  \n",
              "87      0        0  \n",
              "88      1        0  \n",
              "89      1        0  \n",
              "90      0        0  \n",
              "91      1        0  \n",
              "92      0        0  \n",
              "93      0        0  \n",
              "94      0        0  \n",
              "95      0        0  \n",
              "96      0        0  \n",
              "97      0        0  \n",
              "98      0        0  \n",
              "99      0        0  "
            ]
          },
          "execution_count": 99,
          "metadata": {},
          "output_type": "execute_result"
        }
      ],
      "source": [
        "df_cl.head(100)"
      ]
    },
    {
      "cell_type": "markdown",
      "metadata": {
        "id": "ABtuYLGsaoCH"
      },
      "source": [
        "# Step5 : write into a CSV file"
      ]
    },
    {
      "cell_type": "markdown",
      "metadata": {
        "id": "SxPS8LUhy2nN"
      },
      "source": [
        "### write into CSV"
      ]
    },
    {
      "cell_type": "code",
      "execution_count": 92,
      "metadata": {
        "id": "M5BvFtG998fV"
      },
      "outputs": [],
      "source": [
        "def WriteIntoCSV(df_cl, cluster_Name):\n",
        "    clusters = df_cl.groupby('cluster')\n",
        "    for cluster in clusters.groups:\n",
        "        f = open(cluster_Name+str(cluster)+ '.csv', 'w') # create csv file\n",
        "        data = clusters.get_group(cluster)[['text']] # get title and overview columns\n",
        "        f.write(data.to_csv(index_label='id')) # set index to id\n",
        "        f.close()\n",
        "\n",
        "WriteIntoCSV(df_cl, clusterName)"
      ]
    },
    {
      "cell_type": "markdown",
      "metadata": {
        "id": "mOnUT1O8evjr"
      },
      "source": [
        "### Print cluster features"
      ]
    },
    {
      "cell_type": "code",
      "execution_count": 93,
      "metadata": {
        "colab": {
          "base_uri": "https://localhost:8080/"
        },
        "id": "-O2gB0rr-PWR",
        "outputId": "2a9ea330-6686-4069-b4f5-82b223d9d6d2"
      },
      "outputs": [
        {
          "name": "stdout",
          "output_type": "stream",
          "text": [
            "Cluster centroids: \n",
            "\n",
            "Cluster 0:\n",
            " به\n",
            " از\n",
            " با\n",
            " سفارش\n",
            " که\n",
            " بود\n",
            " من\n",
            " در\n",
            " رو\n",
            " این\n",
            "------------\n",
            "Cluster 1:\n",
            " بود\n",
            " خیلی\n",
            " خوب\n",
            " هم\n",
            " بسیار\n",
            " عالی\n",
            " کیفیت\n",
            " خوشمزه\n",
            " زمینی\n",
            " سیب\n",
            "------------\n"
          ]
        }
      ],
      "source": [
        "def PrintClusterFeatures(km):\n",
        "    print(\"Cluster centroids: \\n\")\n",
        "    order_centroids = km.cluster_centers_.argsort()[:, ::-1]\n",
        "    terms = vectorizer.get_feature_names_out()\n",
        "\n",
        "    for i in range(2):\n",
        "        print(\"Cluster %d:\" % i)\n",
        "        for j in order_centroids[i, :10]: #print out 10 feature terms of each cluster\n",
        "            print (' %s' % terms[j])\n",
        "        print('------------')\n",
        "\n",
        "PrintClusterFeatures(KM)"
      ]
    },
    {
      "cell_type": "markdown",
      "metadata": {
        "id": "P7ecrWuM4nMw"
      },
      "source": [
        "# Step 6 : Loop for set deferent Variables"
      ]
    },
    {
      "cell_type": "code",
      "execution_count": 104,
      "metadata": {
        "colab": {
          "base_uri": "https://localhost:8080/"
        },
        "id": "SMOVSlRB4mAf",
        "outputId": "7a21a2f4-4f27-416e-8b22-fb587d64cc6a"
      },
      "outputs": [
        {
          "name": "stdout",
          "output_type": "stream",
          "text": [
            "(55852, 12785)\n",
            "[(192, 'ادم', 0.15487384198008022), (290, 'از', 0.058688767978759715), (892, 'انتظار', 0.13106288533335736), (996, 'انگار', 0.12749463374134673), (1020, 'اهنگ', 0.42383473256276455), (1248, 'این', 0.22437478907525976), (1320, 'با', 0.13637551535978049), (1803, 'برای', 0.09232084052104222), (2145, 'بعد', 0.10967077080852611), (2307, 'به', 0.11485474325732307), (2627, 'تا', 0.09438814375535234), (2665, 'تازه', 0.09301635196501928), (3503, 'حالا', 0.14587890076129956), (3525, 'حتما', 0.13695322903655566), (4144, 'دارن', 0.16605620581627392), (4386, 'دستم', 0.11081887752643922), (4937, 'رسیده', 0.17143747604387696), (6132, 'شنیدن', 0.48951506645885523), (6988, 'فری', 0.26197937438994034), (7112, 'فکر', 0.13167799353270213), (8613, 'موسیقی', 0.21191736628138227), (9094, 'میکنم', 0.12339308457654906), (9098, 'میکنه', 0.141523730479871), (10210, 'هدست', 0.2275356920689149), (11439, 'پیشنهاد', 0.12996817678220432), (12032, 'کسایی', 0.19777772046242661), (12198, 'که', 0.06021078447227599), (12308, 'کیفیت', 0.06611301486261191), (12741, 'یک', 0.0918413557213638)]\n",
            "done in 0.060s\n",
            "Calinski-Harabasz Index: 1.64\n"
          ]
        },
        {
          "name": "stderr",
          "output_type": "stream",
          "text": [
            "/usr/local/lib/python3.10/dist-packages/sklearn/cluster/_kmeans.py:870: FutureWarning: The default value of `n_init` will change from 10 to 'auto' in 1.4. Set the value of `n_init` explicitly to suppress the warning\n",
            "  warnings.warn(\n",
            "<ipython-input-90-0eda76fec746>:6: SettingWithCopyWarning: \n",
            "A value is trying to be set on a copy of a slice from a DataFrame.\n",
            "Try using .loc[row_indexer,col_indexer] = value instead\n",
            "\n",
            "See the caveats in the documentation: https://pandas.pydata.org/pandas-docs/stable/user_guide/indexing.html#returning-a-view-versus-a-copy\n",
            "  df_cl['cluster'] = km.labels_\n"
          ]
        },
        {
          "name": "stdout",
          "output_type": "stream",
          "text": [
            "(55852, 12785)\n",
            "[(192, 'ادم', 0.15487384198008022), (290, 'از', 0.058688767978759715), (892, 'انتظار', 0.13106288533335736), (996, 'انگار', 0.12749463374134673), (1020, 'اهنگ', 0.42383473256276455), (1248, 'این', 0.22437478907525976), (1320, 'با', 0.13637551535978049), (1803, 'برای', 0.09232084052104222), (2145, 'بعد', 0.10967077080852611), (2307, 'به', 0.11485474325732307), (2627, 'تا', 0.09438814375535234), (2665, 'تازه', 0.09301635196501928), (3503, 'حالا', 0.14587890076129956), (3525, 'حتما', 0.13695322903655566), (4144, 'دارن', 0.16605620581627392), (4386, 'دستم', 0.11081887752643922), (4937, 'رسیده', 0.17143747604387696), (6132, 'شنیدن', 0.48951506645885523), (6988, 'فری', 0.26197937438994034), (7112, 'فکر', 0.13167799353270213), (8613, 'موسیقی', 0.21191736628138227), (9094, 'میکنم', 0.12339308457654906), (9098, 'میکنه', 0.141523730479871), (10210, 'هدست', 0.2275356920689149), (11439, 'پیشنهاد', 0.12996817678220432), (12032, 'کسایی', 0.19777772046242661), (12198, 'که', 0.06021078447227599), (12308, 'کیفیت', 0.06611301486261191), (12741, 'یک', 0.0918413557213638)]\n",
            "done in 0.072s\n",
            "Calinski-Harabasz Index: 2.65\n"
          ]
        },
        {
          "name": "stderr",
          "output_type": "stream",
          "text": [
            "/usr/local/lib/python3.10/dist-packages/sklearn/cluster/_kmeans.py:870: FutureWarning: The default value of `n_init` will change from 10 to 'auto' in 1.4. Set the value of `n_init` explicitly to suppress the warning\n",
            "  warnings.warn(\n",
            "<ipython-input-90-0eda76fec746>:6: SettingWithCopyWarning: \n",
            "A value is trying to be set on a copy of a slice from a DataFrame.\n",
            "Try using .loc[row_indexer,col_indexer] = value instead\n",
            "\n",
            "See the caveats in the documentation: https://pandas.pydata.org/pandas-docs/stable/user_guide/indexing.html#returning-a-view-versus-a-copy\n",
            "  df_cl['cluster'] = km.labels_\n"
          ]
        },
        {
          "name": "stdout",
          "output_type": "stream",
          "text": [
            "(55852, 12785)\n",
            "[(192, 'ادم', 0.15487384198008022), (290, 'از', 0.058688767978759715), (892, 'انتظار', 0.13106288533335736), (996, 'انگار', 0.12749463374134673), (1020, 'اهنگ', 0.42383473256276455), (1248, 'این', 0.22437478907525976), (1320, 'با', 0.13637551535978049), (1803, 'برای', 0.09232084052104222), (2145, 'بعد', 0.10967077080852611), (2307, 'به', 0.11485474325732307), (2627, 'تا', 0.09438814375535234), (2665, 'تازه', 0.09301635196501928), (3503, 'حالا', 0.14587890076129956), (3525, 'حتما', 0.13695322903655566), (4144, 'دارن', 0.16605620581627392), (4386, 'دستم', 0.11081887752643922), (4937, 'رسیده', 0.17143747604387696), (6132, 'شنیدن', 0.48951506645885523), (6988, 'فری', 0.26197937438994034), (7112, 'فکر', 0.13167799353270213), (8613, 'موسیقی', 0.21191736628138227), (9094, 'میکنم', 0.12339308457654906), (9098, 'میکنه', 0.141523730479871), (10210, 'هدست', 0.2275356920689149), (11439, 'پیشنهاد', 0.12996817678220432), (12032, 'کسایی', 0.19777772046242661), (12198, 'که', 0.06021078447227599), (12308, 'کیفیت', 0.06611301486261191), (12741, 'یک', 0.0918413557213638)]\n"
          ]
        },
        {
          "name": "stderr",
          "output_type": "stream",
          "text": [
            "/usr/local/lib/python3.10/dist-packages/sklearn/cluster/_kmeans.py:870: FutureWarning: The default value of `n_init` will change from 10 to 'auto' in 1.4. Set the value of `n_init` explicitly to suppress the warning\n",
            "  warnings.warn(\n"
          ]
        },
        {
          "name": "stdout",
          "output_type": "stream",
          "text": [
            "done in 0.118s\n",
            "Calinski-Harabasz Index: 5.67\n"
          ]
        },
        {
          "name": "stderr",
          "output_type": "stream",
          "text": [
            "<ipython-input-90-0eda76fec746>:6: SettingWithCopyWarning: \n",
            "A value is trying to be set on a copy of a slice from a DataFrame.\n",
            "Try using .loc[row_indexer,col_indexer] = value instead\n",
            "\n",
            "See the caveats in the documentation: https://pandas.pydata.org/pandas-docs/stable/user_guide/indexing.html#returning-a-view-versus-a-copy\n",
            "  df_cl['cluster'] = km.labels_\n"
          ]
        },
        {
          "name": "stdout",
          "output_type": "stream",
          "text": [
            "(55852, 12785)\n",
            "[(192, 'ادم', 0.15487384198008022), (290, 'از', 0.058688767978759715), (892, 'انتظار', 0.13106288533335736), (996, 'انگار', 0.12749463374134673), (1020, 'اهنگ', 0.42383473256276455), (1248, 'این', 0.22437478907525976), (1320, 'با', 0.13637551535978049), (1803, 'برای', 0.09232084052104222), (2145, 'بعد', 0.10967077080852611), (2307, 'به', 0.11485474325732307), (2627, 'تا', 0.09438814375535234), (2665, 'تازه', 0.09301635196501928), (3503, 'حالا', 0.14587890076129956), (3525, 'حتما', 0.13695322903655566), (4144, 'دارن', 0.16605620581627392), (4386, 'دستم', 0.11081887752643922), (4937, 'رسیده', 0.17143747604387696), (6132, 'شنیدن', 0.48951506645885523), (6988, 'فری', 0.26197937438994034), (7112, 'فکر', 0.13167799353270213), (8613, 'موسیقی', 0.21191736628138227), (9094, 'میکنم', 0.12339308457654906), (9098, 'میکنه', 0.141523730479871), (10210, 'هدست', 0.2275356920689149), (11439, 'پیشنهاد', 0.12996817678220432), (12032, 'کسایی', 0.19777772046242661), (12198, 'که', 0.06021078447227599), (12308, 'کیفیت', 0.06611301486261191), (12741, 'یک', 0.0918413557213638)]\n"
          ]
        },
        {
          "name": "stderr",
          "output_type": "stream",
          "text": [
            "/usr/local/lib/python3.10/dist-packages/sklearn/cluster/_kmeans.py:870: FutureWarning: The default value of `n_init` will change from 10 to 'auto' in 1.4. Set the value of `n_init` explicitly to suppress the warning\n",
            "  warnings.warn(\n"
          ]
        },
        {
          "name": "stdout",
          "output_type": "stream",
          "text": [
            "done in 0.127s\n",
            "Calinski-Harabasz Index: 9.51\n"
          ]
        },
        {
          "name": "stderr",
          "output_type": "stream",
          "text": [
            "<ipython-input-90-0eda76fec746>:6: SettingWithCopyWarning: \n",
            "A value is trying to be set on a copy of a slice from a DataFrame.\n",
            "Try using .loc[row_indexer,col_indexer] = value instead\n",
            "\n",
            "See the caveats in the documentation: https://pandas.pydata.org/pandas-docs/stable/user_guide/indexing.html#returning-a-view-versus-a-copy\n",
            "  df_cl['cluster'] = km.labels_\n"
          ]
        },
        {
          "name": "stdout",
          "output_type": "stream",
          "text": [
            "(55852, 9540)\n",
            "[(148, 'ادم', 0.15487384198008022), (223, 'از', 0.058688767978759715), (656, 'انتظار', 0.13106288533335736), (737, 'انگار', 0.12749463374134673), (753, 'اهنگ', 0.42383473256276455), (925, 'این', 0.22437478907525976), (984, 'با', 0.13637551535978049), (1346, 'برای', 0.09232084052104222), (1608, 'بعد', 0.10967077080852611), (1728, 'به', 0.11485474325732307), (1980, 'تا', 0.09438814375535234), (2009, 'تازه', 0.09301635196501928), (2623, 'حالا', 0.14587890076129956), (2641, 'حتما', 0.13695322903655566), (3103, 'دارن', 0.16605620581627392), (3282, 'دستم', 0.11081887752643922), (3698, 'رسیده', 0.17143747604387696), (4588, 'شنیدن', 0.48951506645885523), (5220, 'فری', 0.26197937438994034), (5306, 'فکر', 0.13167799353270213), (6430, 'موسیقی', 0.21191736628138227), (6810, 'میکنم', 0.12339308457654906), (6813, 'میکنه', 0.141523730479871), (7666, 'هدست', 0.2275356920689149), (8518, 'پیشنهاد', 0.12996817678220432), (8965, 'کسایی', 0.19777772046242661), (9096, 'که', 0.06021078447227599), (9182, 'کیفیت', 0.06611301486261191), (9505, 'یک', 0.0918413557213638)]\n"
          ]
        },
        {
          "name": "stderr",
          "output_type": "stream",
          "text": [
            "/usr/local/lib/python3.10/dist-packages/sklearn/cluster/_kmeans.py:870: FutureWarning: The default value of `n_init` will change from 10 to 'auto' in 1.4. Set the value of `n_init` explicitly to suppress the warning\n",
            "  warnings.warn(\n"
          ]
        },
        {
          "name": "stdout",
          "output_type": "stream",
          "text": [
            "done in 0.078s\n",
            "Calinski-Harabasz Index: 1.60\n"
          ]
        },
        {
          "name": "stderr",
          "output_type": "stream",
          "text": [
            "<ipython-input-90-0eda76fec746>:6: SettingWithCopyWarning: \n",
            "A value is trying to be set on a copy of a slice from a DataFrame.\n",
            "Try using .loc[row_indexer,col_indexer] = value instead\n",
            "\n",
            "See the caveats in the documentation: https://pandas.pydata.org/pandas-docs/stable/user_guide/indexing.html#returning-a-view-versus-a-copy\n",
            "  df_cl['cluster'] = km.labels_\n"
          ]
        },
        {
          "name": "stdout",
          "output_type": "stream",
          "text": [
            "(55852, 9540)\n",
            "[(148, 'ادم', 0.15487384198008022), (223, 'از', 0.058688767978759715), (656, 'انتظار', 0.13106288533335736), (737, 'انگار', 0.12749463374134673), (753, 'اهنگ', 0.42383473256276455), (925, 'این', 0.22437478907525976), (984, 'با', 0.13637551535978049), (1346, 'برای', 0.09232084052104222), (1608, 'بعد', 0.10967077080852611), (1728, 'به', 0.11485474325732307), (1980, 'تا', 0.09438814375535234), (2009, 'تازه', 0.09301635196501928), (2623, 'حالا', 0.14587890076129956), (2641, 'حتما', 0.13695322903655566), (3103, 'دارن', 0.16605620581627392), (3282, 'دستم', 0.11081887752643922), (3698, 'رسیده', 0.17143747604387696), (4588, 'شنیدن', 0.48951506645885523), (5220, 'فری', 0.26197937438994034), (5306, 'فکر', 0.13167799353270213), (6430, 'موسیقی', 0.21191736628138227), (6810, 'میکنم', 0.12339308457654906), (6813, 'میکنه', 0.141523730479871), (7666, 'هدست', 0.2275356920689149), (8518, 'پیشنهاد', 0.12996817678220432), (8965, 'کسایی', 0.19777772046242661), (9096, 'که', 0.06021078447227599), (9182, 'کیفیت', 0.06611301486261191), (9505, 'یک', 0.0918413557213638)]\n",
            "done in 0.058s\n",
            "Calinski-Harabasz Index: 2.45\n"
          ]
        },
        {
          "name": "stderr",
          "output_type": "stream",
          "text": [
            "/usr/local/lib/python3.10/dist-packages/sklearn/cluster/_kmeans.py:870: FutureWarning: The default value of `n_init` will change from 10 to 'auto' in 1.4. Set the value of `n_init` explicitly to suppress the warning\n",
            "  warnings.warn(\n",
            "<ipython-input-90-0eda76fec746>:6: SettingWithCopyWarning: \n",
            "A value is trying to be set on a copy of a slice from a DataFrame.\n",
            "Try using .loc[row_indexer,col_indexer] = value instead\n",
            "\n",
            "See the caveats in the documentation: https://pandas.pydata.org/pandas-docs/stable/user_guide/indexing.html#returning-a-view-versus-a-copy\n",
            "  df_cl['cluster'] = km.labels_\n"
          ]
        },
        {
          "name": "stdout",
          "output_type": "stream",
          "text": [
            "(55852, 9540)\n",
            "[(148, 'ادم', 0.15487384198008022), (223, 'از', 0.058688767978759715), (656, 'انتظار', 0.13106288533335736), (737, 'انگار', 0.12749463374134673), (753, 'اهنگ', 0.42383473256276455), (925, 'این', 0.22437478907525976), (984, 'با', 0.13637551535978049), (1346, 'برای', 0.09232084052104222), (1608, 'بعد', 0.10967077080852611), (1728, 'به', 0.11485474325732307), (1980, 'تا', 0.09438814375535234), (2009, 'تازه', 0.09301635196501928), (2623, 'حالا', 0.14587890076129956), (2641, 'حتما', 0.13695322903655566), (3103, 'دارن', 0.16605620581627392), (3282, 'دستم', 0.11081887752643922), (3698, 'رسیده', 0.17143747604387696), (4588, 'شنیدن', 0.48951506645885523), (5220, 'فری', 0.26197937438994034), (5306, 'فکر', 0.13167799353270213), (6430, 'موسیقی', 0.21191736628138227), (6810, 'میکنم', 0.12339308457654906), (6813, 'میکنه', 0.141523730479871), (7666, 'هدست', 0.2275356920689149), (8518, 'پیشنهاد', 0.12996817678220432), (8965, 'کسایی', 0.19777772046242661), (9096, 'که', 0.06021078447227599), (9182, 'کیفیت', 0.06611301486261191), (9505, 'یک', 0.0918413557213638)]\n"
          ]
        },
        {
          "name": "stderr",
          "output_type": "stream",
          "text": [
            "/usr/local/lib/python3.10/dist-packages/sklearn/cluster/_kmeans.py:870: FutureWarning: The default value of `n_init` will change from 10 to 'auto' in 1.4. Set the value of `n_init` explicitly to suppress the warning\n",
            "  warnings.warn(\n"
          ]
        },
        {
          "name": "stdout",
          "output_type": "stream",
          "text": [
            "done in 0.082s\n",
            "Calinski-Harabasz Index: 5.70\n"
          ]
        },
        {
          "name": "stderr",
          "output_type": "stream",
          "text": [
            "<ipython-input-90-0eda76fec746>:6: SettingWithCopyWarning: \n",
            "A value is trying to be set on a copy of a slice from a DataFrame.\n",
            "Try using .loc[row_indexer,col_indexer] = value instead\n",
            "\n",
            "See the caveats in the documentation: https://pandas.pydata.org/pandas-docs/stable/user_guide/indexing.html#returning-a-view-versus-a-copy\n",
            "  df_cl['cluster'] = km.labels_\n"
          ]
        },
        {
          "name": "stdout",
          "output_type": "stream",
          "text": [
            "(55852, 9540)\n",
            "[(148, 'ادم', 0.15487384198008022), (223, 'از', 0.058688767978759715), (656, 'انتظار', 0.13106288533335736), (737, 'انگار', 0.12749463374134673), (753, 'اهنگ', 0.42383473256276455), (925, 'این', 0.22437478907525976), (984, 'با', 0.13637551535978049), (1346, 'برای', 0.09232084052104222), (1608, 'بعد', 0.10967077080852611), (1728, 'به', 0.11485474325732307), (1980, 'تا', 0.09438814375535234), (2009, 'تازه', 0.09301635196501928), (2623, 'حالا', 0.14587890076129956), (2641, 'حتما', 0.13695322903655566), (3103, 'دارن', 0.16605620581627392), (3282, 'دستم', 0.11081887752643922), (3698, 'رسیده', 0.17143747604387696), (4588, 'شنیدن', 0.48951506645885523), (5220, 'فری', 0.26197937438994034), (5306, 'فکر', 0.13167799353270213), (6430, 'موسیقی', 0.21191736628138227), (6810, 'میکنم', 0.12339308457654906), (6813, 'میکنه', 0.141523730479871), (7666, 'هدست', 0.2275356920689149), (8518, 'پیشنهاد', 0.12996817678220432), (8965, 'کسایی', 0.19777772046242661), (9096, 'که', 0.06021078447227599), (9182, 'کیفیت', 0.06611301486261191), (9505, 'یک', 0.0918413557213638)]\n"
          ]
        },
        {
          "name": "stderr",
          "output_type": "stream",
          "text": [
            "/usr/local/lib/python3.10/dist-packages/sklearn/cluster/_kmeans.py:870: FutureWarning: The default value of `n_init` will change from 10 to 'auto' in 1.4. Set the value of `n_init` explicitly to suppress the warning\n",
            "  warnings.warn(\n"
          ]
        },
        {
          "name": "stdout",
          "output_type": "stream",
          "text": [
            "done in 0.106s\n",
            "Calinski-Harabasz Index: 9.61\n"
          ]
        },
        {
          "name": "stderr",
          "output_type": "stream",
          "text": [
            "<ipython-input-90-0eda76fec746>:6: SettingWithCopyWarning: \n",
            "A value is trying to be set on a copy of a slice from a DataFrame.\n",
            "Try using .loc[row_indexer,col_indexer] = value instead\n",
            "\n",
            "See the caveats in the documentation: https://pandas.pydata.org/pandas-docs/stable/user_guide/indexing.html#returning-a-view-versus-a-copy\n",
            "  df_cl['cluster'] = km.labels_\n"
          ]
        },
        {
          "name": "stdout",
          "output_type": "stream",
          "text": [
            "(55852, 4591)\n",
            "[(70, 'ادم', 0.18621131199485072), (103, 'از', 0.07056396577345739), (291, 'انتظار', 0.15758240074456317), (337, 'انگار', 0.15329214228657592), (348, 'اهنگ', 0.5095942646638163), (438, 'این', 0.2697752139295794), (475, 'با', 0.16396999851262734), (667, 'برای', 0.11100121633259262), (784, 'بعد', 0.13186176476702166), (845, 'به', 0.13809467213661994), (954, 'تا', 0.1134868216654906), (969, 'تازه', 0.11183745889514918), (1264, 'حالا', 0.17539631713031353), (1274, 'حتما', 0.16466460788199724), (1507, 'دارن', 0.19965633676158456), (1595, 'دستم', 0.13324218159867873), (1797, 'رسیده', 0.20612646352069003), (2553, 'فکر', 0.15832197111586907), (3084, 'موسیقی', 0.25479713233190815), (3266, 'میکنم', 0.14836067780281506), (3269, 'میکنه', 0.17015991334709685), (3679, 'هدست', 0.2735757000931026), (4075, 'پیشنهاد', 0.15626618676707035), (4303, 'کسایی', 0.2377964434781449), (4379, 'که', 0.07239395000134217), (4423, 'کیفیت', 0.07949044900097112), (4574, 'یک', 0.11042471165957501)]\n",
            "done in 0.056s\n",
            "Calinski-Harabasz Index: 1.66\n"
          ]
        },
        {
          "name": "stderr",
          "output_type": "stream",
          "text": [
            "/usr/local/lib/python3.10/dist-packages/sklearn/cluster/_kmeans.py:870: FutureWarning: The default value of `n_init` will change from 10 to 'auto' in 1.4. Set the value of `n_init` explicitly to suppress the warning\n",
            "  warnings.warn(\n",
            "<ipython-input-90-0eda76fec746>:6: SettingWithCopyWarning: \n",
            "A value is trying to be set on a copy of a slice from a DataFrame.\n",
            "Try using .loc[row_indexer,col_indexer] = value instead\n",
            "\n",
            "See the caveats in the documentation: https://pandas.pydata.org/pandas-docs/stable/user_guide/indexing.html#returning-a-view-versus-a-copy\n",
            "  df_cl['cluster'] = km.labels_\n"
          ]
        },
        {
          "name": "stdout",
          "output_type": "stream",
          "text": [
            "(55852, 4591)\n",
            "[(70, 'ادم', 0.18621131199485072), (103, 'از', 0.07056396577345739), (291, 'انتظار', 0.15758240074456317), (337, 'انگار', 0.15329214228657592), (348, 'اهنگ', 0.5095942646638163), (438, 'این', 0.2697752139295794), (475, 'با', 0.16396999851262734), (667, 'برای', 0.11100121633259262), (784, 'بعد', 0.13186176476702166), (845, 'به', 0.13809467213661994), (954, 'تا', 0.1134868216654906), (969, 'تازه', 0.11183745889514918), (1264, 'حالا', 0.17539631713031353), (1274, 'حتما', 0.16466460788199724), (1507, 'دارن', 0.19965633676158456), (1595, 'دستم', 0.13324218159867873), (1797, 'رسیده', 0.20612646352069003), (2553, 'فکر', 0.15832197111586907), (3084, 'موسیقی', 0.25479713233190815), (3266, 'میکنم', 0.14836067780281506), (3269, 'میکنه', 0.17015991334709685), (3679, 'هدست', 0.2735757000931026), (4075, 'پیشنهاد', 0.15626618676707035), (4303, 'کسایی', 0.2377964434781449), (4379, 'که', 0.07239395000134217), (4423, 'کیفیت', 0.07949044900097112), (4574, 'یک', 0.11042471165957501)]\n"
          ]
        },
        {
          "name": "stderr",
          "output_type": "stream",
          "text": [
            "/usr/local/lib/python3.10/dist-packages/sklearn/cluster/_kmeans.py:870: FutureWarning: The default value of `n_init` will change from 10 to 'auto' in 1.4. Set the value of `n_init` explicitly to suppress the warning\n",
            "  warnings.warn(\n"
          ]
        },
        {
          "name": "stdout",
          "output_type": "stream",
          "text": [
            "done in 0.177s\n",
            "Calinski-Harabasz Index: 2.40\n"
          ]
        },
        {
          "name": "stderr",
          "output_type": "stream",
          "text": [
            "<ipython-input-90-0eda76fec746>:6: SettingWithCopyWarning: \n",
            "A value is trying to be set on a copy of a slice from a DataFrame.\n",
            "Try using .loc[row_indexer,col_indexer] = value instead\n",
            "\n",
            "See the caveats in the documentation: https://pandas.pydata.org/pandas-docs/stable/user_guide/indexing.html#returning-a-view-versus-a-copy\n",
            "  df_cl['cluster'] = km.labels_\n"
          ]
        },
        {
          "name": "stdout",
          "output_type": "stream",
          "text": [
            "(55852, 4591)\n",
            "[(70, 'ادم', 0.18621131199485072), (103, 'از', 0.07056396577345739), (291, 'انتظار', 0.15758240074456317), (337, 'انگار', 0.15329214228657592), (348, 'اهنگ', 0.5095942646638163), (438, 'این', 0.2697752139295794), (475, 'با', 0.16396999851262734), (667, 'برای', 0.11100121633259262), (784, 'بعد', 0.13186176476702166), (845, 'به', 0.13809467213661994), (954, 'تا', 0.1134868216654906), (969, 'تازه', 0.11183745889514918), (1264, 'حالا', 0.17539631713031353), (1274, 'حتما', 0.16466460788199724), (1507, 'دارن', 0.19965633676158456), (1595, 'دستم', 0.13324218159867873), (1797, 'رسیده', 0.20612646352069003), (2553, 'فکر', 0.15832197111586907), (3084, 'موسیقی', 0.25479713233190815), (3266, 'میکنم', 0.14836067780281506), (3269, 'میکنه', 0.17015991334709685), (3679, 'هدست', 0.2735757000931026), (4075, 'پیشنهاد', 0.15626618676707035), (4303, 'کسایی', 0.2377964434781449), (4379, 'که', 0.07239395000134217), (4423, 'کیفیت', 0.07949044900097112), (4574, 'یک', 0.11042471165957501)]\n"
          ]
        },
        {
          "name": "stderr",
          "output_type": "stream",
          "text": [
            "/usr/local/lib/python3.10/dist-packages/sklearn/cluster/_kmeans.py:870: FutureWarning: The default value of `n_init` will change from 10 to 'auto' in 1.4. Set the value of `n_init` explicitly to suppress the warning\n",
            "  warnings.warn(\n"
          ]
        },
        {
          "name": "stdout",
          "output_type": "stream",
          "text": [
            "done in 0.081s\n",
            "Calinski-Harabasz Index: 5.79\n"
          ]
        },
        {
          "name": "stderr",
          "output_type": "stream",
          "text": [
            "<ipython-input-90-0eda76fec746>:6: SettingWithCopyWarning: \n",
            "A value is trying to be set on a copy of a slice from a DataFrame.\n",
            "Try using .loc[row_indexer,col_indexer] = value instead\n",
            "\n",
            "See the caveats in the documentation: https://pandas.pydata.org/pandas-docs/stable/user_guide/indexing.html#returning-a-view-versus-a-copy\n",
            "  df_cl['cluster'] = km.labels_\n"
          ]
        },
        {
          "name": "stdout",
          "output_type": "stream",
          "text": [
            "(55852, 4591)\n",
            "[(70, 'ادم', 0.18621131199485072), (103, 'از', 0.07056396577345739), (291, 'انتظار', 0.15758240074456317), (337, 'انگار', 0.15329214228657592), (348, 'اهنگ', 0.5095942646638163), (438, 'این', 0.2697752139295794), (475, 'با', 0.16396999851262734), (667, 'برای', 0.11100121633259262), (784, 'بعد', 0.13186176476702166), (845, 'به', 0.13809467213661994), (954, 'تا', 0.1134868216654906), (969, 'تازه', 0.11183745889514918), (1264, 'حالا', 0.17539631713031353), (1274, 'حتما', 0.16466460788199724), (1507, 'دارن', 0.19965633676158456), (1595, 'دستم', 0.13324218159867873), (1797, 'رسیده', 0.20612646352069003), (2553, 'فکر', 0.15832197111586907), (3084, 'موسیقی', 0.25479713233190815), (3266, 'میکنم', 0.14836067780281506), (3269, 'میکنه', 0.17015991334709685), (3679, 'هدست', 0.2735757000931026), (4075, 'پیشنهاد', 0.15626618676707035), (4303, 'کسایی', 0.2377964434781449), (4379, 'که', 0.07239395000134217), (4423, 'کیفیت', 0.07949044900097112), (4574, 'یک', 0.11042471165957501)]\n",
            "done in 0.096s\n",
            "Calinski-Harabasz Index: 9.79\n"
          ]
        },
        {
          "name": "stderr",
          "output_type": "stream",
          "text": [
            "/usr/local/lib/python3.10/dist-packages/sklearn/cluster/_kmeans.py:870: FutureWarning: The default value of `n_init` will change from 10 to 'auto' in 1.4. Set the value of `n_init` explicitly to suppress the warning\n",
            "  warnings.warn(\n",
            "<ipython-input-90-0eda76fec746>:6: SettingWithCopyWarning: \n",
            "A value is trying to be set on a copy of a slice from a DataFrame.\n",
            "Try using .loc[row_indexer,col_indexer] = value instead\n",
            "\n",
            "See the caveats in the documentation: https://pandas.pydata.org/pandas-docs/stable/user_guide/indexing.html#returning-a-view-versus-a-copy\n",
            "  df_cl['cluster'] = km.labels_\n"
          ]
        },
        {
          "name": "stdout",
          "output_type": "stream",
          "text": [
            "(55852, 1718)\n",
            "[(24, 'ادم', 0.24028797492756176), (35, 'از', 0.0910560817005077), (104, 'انتظار', 0.20334508979874255), (118, 'انگار', 0.19780891959650423), (155, 'این', 0.34811923693755487), (172, 'با', 0.21158767676028226), (255, 'برای', 0.14323650481444672), (292, 'بعد', 0.1701550571058665), (313, 'به', 0.17819803083129337), (362, 'تا', 0.14644394192185362), (369, 'تازه', 0.14431559624961424), (480, 'حالا', 0.2263322534033856), (485, 'حتما', 0.21248400403999237), (587, 'دارن', 0.25763749971979744), (622, 'دستم', 0.17193635364194362), (705, 'رسیده', 0.26598658248933976), (995, 'فکر', 0.20429943497215733), (1236, 'میکنم', 0.1914453340466486), (1239, 'میکنه', 0.21957517271106466), (1518, 'پیشنهاد', 0.20164664093527157), (1596, 'کسایی', 0.30685367734222246), (1634, 'که', 0.0934175021725356), (1654, 'کیفیت', 0.10257485870167847), (1712, 'یک', 0.14249258040442211)]\n",
            "done in 0.051s\n",
            "Calinski-Harabasz Index: 1.72\n"
          ]
        },
        {
          "name": "stderr",
          "output_type": "stream",
          "text": [
            "/usr/local/lib/python3.10/dist-packages/sklearn/cluster/_kmeans.py:870: FutureWarning: The default value of `n_init` will change from 10 to 'auto' in 1.4. Set the value of `n_init` explicitly to suppress the warning\n",
            "  warnings.warn(\n",
            "<ipython-input-90-0eda76fec746>:6: SettingWithCopyWarning: \n",
            "A value is trying to be set on a copy of a slice from a DataFrame.\n",
            "Try using .loc[row_indexer,col_indexer] = value instead\n",
            "\n",
            "See the caveats in the documentation: https://pandas.pydata.org/pandas-docs/stable/user_guide/indexing.html#returning-a-view-versus-a-copy\n",
            "  df_cl['cluster'] = km.labels_\n"
          ]
        },
        {
          "name": "stdout",
          "output_type": "stream",
          "text": [
            "(55852, 1718)\n",
            "[(24, 'ادم', 0.24028797492756176), (35, 'از', 0.0910560817005077), (104, 'انتظار', 0.20334508979874255), (118, 'انگار', 0.19780891959650423), (155, 'این', 0.34811923693755487), (172, 'با', 0.21158767676028226), (255, 'برای', 0.14323650481444672), (292, 'بعد', 0.1701550571058665), (313, 'به', 0.17819803083129337), (362, 'تا', 0.14644394192185362), (369, 'تازه', 0.14431559624961424), (480, 'حالا', 0.2263322534033856), (485, 'حتما', 0.21248400403999237), (587, 'دارن', 0.25763749971979744), (622, 'دستم', 0.17193635364194362), (705, 'رسیده', 0.26598658248933976), (995, 'فکر', 0.20429943497215733), (1236, 'میکنم', 0.1914453340466486), (1239, 'میکنه', 0.21957517271106466), (1518, 'پیشنهاد', 0.20164664093527157), (1596, 'کسایی', 0.30685367734222246), (1634, 'که', 0.0934175021725356), (1654, 'کیفیت', 0.10257485870167847), (1712, 'یک', 0.14249258040442211)]\n",
            "done in 0.071s\n",
            "Calinski-Harabasz Index: 2.93\n"
          ]
        },
        {
          "name": "stderr",
          "output_type": "stream",
          "text": [
            "/usr/local/lib/python3.10/dist-packages/sklearn/cluster/_kmeans.py:870: FutureWarning: The default value of `n_init` will change from 10 to 'auto' in 1.4. Set the value of `n_init` explicitly to suppress the warning\n",
            "  warnings.warn(\n",
            "<ipython-input-90-0eda76fec746>:6: SettingWithCopyWarning: \n",
            "A value is trying to be set on a copy of a slice from a DataFrame.\n",
            "Try using .loc[row_indexer,col_indexer] = value instead\n",
            "\n",
            "See the caveats in the documentation: https://pandas.pydata.org/pandas-docs/stable/user_guide/indexing.html#returning-a-view-versus-a-copy\n",
            "  df_cl['cluster'] = km.labels_\n"
          ]
        },
        {
          "name": "stdout",
          "output_type": "stream",
          "text": [
            "(55852, 1718)\n",
            "[(24, 'ادم', 0.24028797492756176), (35, 'از', 0.0910560817005077), (104, 'انتظار', 0.20334508979874255), (118, 'انگار', 0.19780891959650423), (155, 'این', 0.34811923693755487), (172, 'با', 0.21158767676028226), (255, 'برای', 0.14323650481444672), (292, 'بعد', 0.1701550571058665), (313, 'به', 0.17819803083129337), (362, 'تا', 0.14644394192185362), (369, 'تازه', 0.14431559624961424), (480, 'حالا', 0.2263322534033856), (485, 'حتما', 0.21248400403999237), (587, 'دارن', 0.25763749971979744), (622, 'دستم', 0.17193635364194362), (705, 'رسیده', 0.26598658248933976), (995, 'فکر', 0.20429943497215733), (1236, 'میکنم', 0.1914453340466486), (1239, 'میکنه', 0.21957517271106466), (1518, 'پیشنهاد', 0.20164664093527157), (1596, 'کسایی', 0.30685367734222246), (1634, 'که', 0.0934175021725356), (1654, 'کیفیت', 0.10257485870167847), (1712, 'یک', 0.14249258040442211)]\n",
            "done in 0.073s\n",
            "Calinski-Harabasz Index: 6.51\n"
          ]
        },
        {
          "name": "stderr",
          "output_type": "stream",
          "text": [
            "/usr/local/lib/python3.10/dist-packages/sklearn/cluster/_kmeans.py:870: FutureWarning: The default value of `n_init` will change from 10 to 'auto' in 1.4. Set the value of `n_init` explicitly to suppress the warning\n",
            "  warnings.warn(\n",
            "<ipython-input-90-0eda76fec746>:6: SettingWithCopyWarning: \n",
            "A value is trying to be set on a copy of a slice from a DataFrame.\n",
            "Try using .loc[row_indexer,col_indexer] = value instead\n",
            "\n",
            "See the caveats in the documentation: https://pandas.pydata.org/pandas-docs/stable/user_guide/indexing.html#returning-a-view-versus-a-copy\n",
            "  df_cl['cluster'] = km.labels_\n"
          ]
        },
        {
          "name": "stdout",
          "output_type": "stream",
          "text": [
            "(55852, 1718)\n",
            "[(24, 'ادم', 0.24028797492756176), (35, 'از', 0.0910560817005077), (104, 'انتظار', 0.20334508979874255), (118, 'انگار', 0.19780891959650423), (155, 'این', 0.34811923693755487), (172, 'با', 0.21158767676028226), (255, 'برای', 0.14323650481444672), (292, 'بعد', 0.1701550571058665), (313, 'به', 0.17819803083129337), (362, 'تا', 0.14644394192185362), (369, 'تازه', 0.14431559624961424), (480, 'حالا', 0.2263322534033856), (485, 'حتما', 0.21248400403999237), (587, 'دارن', 0.25763749971979744), (622, 'دستم', 0.17193635364194362), (705, 'رسیده', 0.26598658248933976), (995, 'فکر', 0.20429943497215733), (1236, 'میکنم', 0.1914453340466486), (1239, 'میکنه', 0.21957517271106466), (1518, 'پیشنهاد', 0.20164664093527157), (1596, 'کسایی', 0.30685367734222246), (1634, 'که', 0.0934175021725356), (1654, 'کیفیت', 0.10257485870167847), (1712, 'یک', 0.14249258040442211)]\n",
            "done in 0.078s\n",
            "Calinski-Harabasz Index: 11.29\n"
          ]
        },
        {
          "name": "stderr",
          "output_type": "stream",
          "text": [
            "/usr/local/lib/python3.10/dist-packages/sklearn/cluster/_kmeans.py:870: FutureWarning: The default value of `n_init` will change from 10 to 'auto' in 1.4. Set the value of `n_init` explicitly to suppress the warning\n",
            "  warnings.warn(\n",
            "<ipython-input-90-0eda76fec746>:6: SettingWithCopyWarning: \n",
            "A value is trying to be set on a copy of a slice from a DataFrame.\n",
            "Try using .loc[row_indexer,col_indexer] = value instead\n",
            "\n",
            "See the caveats in the documentation: https://pandas.pydata.org/pandas-docs/stable/user_guide/indexing.html#returning-a-view-versus-a-copy\n",
            "  df_cl['cluster'] = km.labels_\n"
          ]
        },
        {
          "name": "stdout",
          "output_type": "stream",
          "text": [
            "(55852, 1104)\n",
            "[(13, 'ادم', 0.25246785686226814), (21, 'از', 0.09567159491910927), (68, 'انتظار', 0.21365238539477724), (74, 'انگار', 0.20783559399435358), (94, 'این', 0.3657649439538037), (103, 'با', 0.22231277826632292), (153, 'برای', 0.1504969751642672), (178, 'بعد', 0.17877999352545826), (190, 'به', 0.18723065502805822), (225, 'تا', 0.15386699304706655), (228, 'تازه', 0.15163076432736325), (302, 'حالا', 0.2378047381388383), (305, 'حتما', 0.2232545391989032), (383, 'دارن', 0.2706968062851221), (408, 'دستم', 0.18065158164398623), (465, 'رسیده', 0.27946909309734186), (661, 'فکر', 0.21465510507191263), (811, 'میکنم', 0.20114944664879422), (813, 'میکنه', 0.23070514989872778), (986, 'پیشنهاد', 0.2118678443885952), (1059, 'که', 0.09815271269415937), (1067, 'کیفیت', 0.10777424360153567), (1099, 'یک', 0.14971534220272154)]\n",
            "done in 0.050s\n",
            "Calinski-Harabasz Index: 2.04\n"
          ]
        },
        {
          "name": "stderr",
          "output_type": "stream",
          "text": [
            "/usr/local/lib/python3.10/dist-packages/sklearn/cluster/_kmeans.py:870: FutureWarning: The default value of `n_init` will change from 10 to 'auto' in 1.4. Set the value of `n_init` explicitly to suppress the warning\n",
            "  warnings.warn(\n",
            "<ipython-input-90-0eda76fec746>:6: SettingWithCopyWarning: \n",
            "A value is trying to be set on a copy of a slice from a DataFrame.\n",
            "Try using .loc[row_indexer,col_indexer] = value instead\n",
            "\n",
            "See the caveats in the documentation: https://pandas.pydata.org/pandas-docs/stable/user_guide/indexing.html#returning-a-view-versus-a-copy\n",
            "  df_cl['cluster'] = km.labels_\n"
          ]
        },
        {
          "name": "stdout",
          "output_type": "stream",
          "text": [
            "(55852, 1104)\n",
            "[(13, 'ادم', 0.25246785686226814), (21, 'از', 0.09567159491910927), (68, 'انتظار', 0.21365238539477724), (74, 'انگار', 0.20783559399435358), (94, 'این', 0.3657649439538037), (103, 'با', 0.22231277826632292), (153, 'برای', 0.1504969751642672), (178, 'بعد', 0.17877999352545826), (190, 'به', 0.18723065502805822), (225, 'تا', 0.15386699304706655), (228, 'تازه', 0.15163076432736325), (302, 'حالا', 0.2378047381388383), (305, 'حتما', 0.2232545391989032), (383, 'دارن', 0.2706968062851221), (408, 'دستم', 0.18065158164398623), (465, 'رسیده', 0.27946909309734186), (661, 'فکر', 0.21465510507191263), (811, 'میکنم', 0.20114944664879422), (813, 'میکنه', 0.23070514989872778), (986, 'پیشنهاد', 0.2118678443885952), (1059, 'که', 0.09815271269415937), (1067, 'کیفیت', 0.10777424360153567), (1099, 'یک', 0.14971534220272154)]\n",
            "done in 0.057s\n",
            "Calinski-Harabasz Index: 3.21\n"
          ]
        },
        {
          "name": "stderr",
          "output_type": "stream",
          "text": [
            "/usr/local/lib/python3.10/dist-packages/sklearn/cluster/_kmeans.py:870: FutureWarning: The default value of `n_init` will change from 10 to 'auto' in 1.4. Set the value of `n_init` explicitly to suppress the warning\n",
            "  warnings.warn(\n",
            "<ipython-input-90-0eda76fec746>:6: SettingWithCopyWarning: \n",
            "A value is trying to be set on a copy of a slice from a DataFrame.\n",
            "Try using .loc[row_indexer,col_indexer] = value instead\n",
            "\n",
            "See the caveats in the documentation: https://pandas.pydata.org/pandas-docs/stable/user_guide/indexing.html#returning-a-view-versus-a-copy\n",
            "  df_cl['cluster'] = km.labels_\n"
          ]
        },
        {
          "name": "stdout",
          "output_type": "stream",
          "text": [
            "(55852, 1104)\n",
            "[(13, 'ادم', 0.25246785686226814), (21, 'از', 0.09567159491910927), (68, 'انتظار', 0.21365238539477724), (74, 'انگار', 0.20783559399435358), (94, 'این', 0.3657649439538037), (103, 'با', 0.22231277826632292), (153, 'برای', 0.1504969751642672), (178, 'بعد', 0.17877999352545826), (190, 'به', 0.18723065502805822), (225, 'تا', 0.15386699304706655), (228, 'تازه', 0.15163076432736325), (302, 'حالا', 0.2378047381388383), (305, 'حتما', 0.2232545391989032), (383, 'دارن', 0.2706968062851221), (408, 'دستم', 0.18065158164398623), (465, 'رسیده', 0.27946909309734186), (661, 'فکر', 0.21465510507191263), (811, 'میکنم', 0.20114944664879422), (813, 'میکنه', 0.23070514989872778), (986, 'پیشنهاد', 0.2118678443885952), (1059, 'که', 0.09815271269415937), (1067, 'کیفیت', 0.10777424360153567), (1099, 'یک', 0.14971534220272154)]\n",
            "done in 0.068s\n",
            "Calinski-Harabasz Index: 7.18\n"
          ]
        },
        {
          "name": "stderr",
          "output_type": "stream",
          "text": [
            "/usr/local/lib/python3.10/dist-packages/sklearn/cluster/_kmeans.py:870: FutureWarning: The default value of `n_init` will change from 10 to 'auto' in 1.4. Set the value of `n_init` explicitly to suppress the warning\n",
            "  warnings.warn(\n",
            "<ipython-input-90-0eda76fec746>:6: SettingWithCopyWarning: \n",
            "A value is trying to be set on a copy of a slice from a DataFrame.\n",
            "Try using .loc[row_indexer,col_indexer] = value instead\n",
            "\n",
            "See the caveats in the documentation: https://pandas.pydata.org/pandas-docs/stable/user_guide/indexing.html#returning-a-view-versus-a-copy\n",
            "  df_cl['cluster'] = km.labels_\n"
          ]
        },
        {
          "name": "stdout",
          "output_type": "stream",
          "text": [
            "(55852, 1104)\n",
            "[(13, 'ادم', 0.25246785686226814), (21, 'از', 0.09567159491910927), (68, 'انتظار', 0.21365238539477724), (74, 'انگار', 0.20783559399435358), (94, 'این', 0.3657649439538037), (103, 'با', 0.22231277826632292), (153, 'برای', 0.1504969751642672), (178, 'بعد', 0.17877999352545826), (190, 'به', 0.18723065502805822), (225, 'تا', 0.15386699304706655), (228, 'تازه', 0.15163076432736325), (302, 'حالا', 0.2378047381388383), (305, 'حتما', 0.2232545391989032), (383, 'دارن', 0.2706968062851221), (408, 'دستم', 0.18065158164398623), (465, 'رسیده', 0.27946909309734186), (661, 'فکر', 0.21465510507191263), (811, 'میکنم', 0.20114944664879422), (813, 'میکنه', 0.23070514989872778), (986, 'پیشنهاد', 0.2118678443885952), (1059, 'که', 0.09815271269415937), (1067, 'کیفیت', 0.10777424360153567), (1099, 'یک', 0.14971534220272154)]\n",
            "done in 0.070s\n",
            "Calinski-Harabasz Index: 12.19\n"
          ]
        },
        {
          "name": "stderr",
          "output_type": "stream",
          "text": [
            "/usr/local/lib/python3.10/dist-packages/sklearn/cluster/_kmeans.py:870: FutureWarning: The default value of `n_init` will change from 10 to 'auto' in 1.4. Set the value of `n_init` explicitly to suppress the warning\n",
            "  warnings.warn(\n",
            "<ipython-input-90-0eda76fec746>:6: SettingWithCopyWarning: \n",
            "A value is trying to be set on a copy of a slice from a DataFrame.\n",
            "Try using .loc[row_indexer,col_indexer] = value instead\n",
            "\n",
            "See the caveats in the documentation: https://pandas.pydata.org/pandas-docs/stable/user_guide/indexing.html#returning-a-view-versus-a-copy\n",
            "  df_cl['cluster'] = km.labels_\n"
          ]
        }
      ],
      "source": [
        "import os\n",
        "\n",
        "if not os.path.exists(\"/ClusterFolder/\"):\n",
        "    os.makedirs(\"/ClusterFolder/\")\n",
        "\n",
        "dfList = []\n",
        "idList = []\n",
        "\n",
        "for MinDFL in MinDFList:\n",
        "    for ItemCountL in ItemCountList:\n",
        "        X, vectorizer = Vectorize(MinDFL)\n",
        "        KM = KMeansCreate(NumberOfClusters, KMeansWay, ItemCountL, MaxIteration, X)\n",
        "        chIndex = CalinskiHarabasz(KM, ItemCountL)\n",
        "        df_cl = CreateFrame(ItemCountL, KM)\n",
        "        id = []\n",
        "        id.append(MinDFL)\n",
        "        id.append(ItemCountL)\n",
        "        idList.append(id)\n",
        "        dfList.append(df_cl)\n",
        "        clusterName = \"/ClusterFolder/\" + \"Cluster\" + str(MinDFL) + \"_\" + str(ItemCountL) + \"_\"\n",
        "        WriteIntoCSV(df_cl, clusterName)"
      ]
    },
    {
      "cell_type": "markdown",
      "metadata": {
        "id": "VzwUNOrBR9uZ"
      },
      "source": [
        "# Step7 : calulate accuracy"
      ]
    },
    {
      "cell_type": "code",
      "execution_count": 112,
      "metadata": {
        "colab": {
          "base_uri": "https://localhost:8080/",
          "height": 677
        },
        "id": "kUhkIiTfR-DE",
        "outputId": "c3bffd82-afdc-46f8-bcf2-8cffe9182fd8"
      },
      "outputs": [
        {
          "data": {
            "application/vnd.google.colaboratory.intrinsic+json": {
              "summary": "{\n  \"name\": \"accuracy_df\",\n  \"rows\": 20,\n  \"fields\": [\n    {\n      \"column\": \"MinDF\",\n      \"properties\": {\n        \"dtype\": \"date\",\n        \"min\": 2,\n        \"max\": 100,\n        \"num_unique_values\": 5,\n        \"samples\": [\n          3,\n          100,\n          10\n        ],\n        \"semantic_type\": \"\",\n        \"description\": \"\"\n      }\n    },\n    {\n      \"column\": \"ItemCount\",\n      \"properties\": {\n        \"dtype\": \"date\",\n        \"min\": 100,\n        \"max\": 1000,\n        \"num_unique_values\": 4,\n        \"samples\": [\n          200,\n          1000,\n          100\n        ],\n        \"semantic_type\": \"\",\n        \"description\": \"\"\n      }\n    },\n    {\n      \"column\": \"accuracy\",\n      \"properties\": {\n        \"dtype\": \"number\",\n        \"std\": 16.480821389852224,\n        \"min\": 24.8,\n        \"max\": 70.89999999999999,\n        \"num_unique_values\": 19,\n        \"samples\": [\n          50.0,\n          68.0,\n          70.89999999999999\n        ],\n        \"semantic_type\": \"\",\n        \"description\": \"\"\n      }\n    }\n  ]\n}",
              "type": "dataframe",
              "variable_name": "accuracy_df"
            },
            "text/html": [
              "\n",
              "  <div id=\"df-490da841-4404-45ba-8cbd-32bfebe0b803\" class=\"colab-df-container\">\n",
              "    <div>\n",
              "<style scoped>\n",
              "    .dataframe tbody tr th:only-of-type {\n",
              "        vertical-align: middle;\n",
              "    }\n",
              "\n",
              "    .dataframe tbody tr th {\n",
              "        vertical-align: top;\n",
              "    }\n",
              "\n",
              "    .dataframe thead th {\n",
              "        text-align: right;\n",
              "    }\n",
              "</style>\n",
              "<table border=\"1\" class=\"dataframe\">\n",
              "  <thead>\n",
              "    <tr style=\"text-align: right;\">\n",
              "      <th></th>\n",
              "      <th>MinDF</th>\n",
              "      <th>ItemCount</th>\n",
              "      <th>accuracy</th>\n",
              "    </tr>\n",
              "  </thead>\n",
              "  <tbody>\n",
              "    <tr>\n",
              "      <th>0</th>\n",
              "      <td>2</td>\n",
              "      <td>100</td>\n",
              "      <td>50.0</td>\n",
              "    </tr>\n",
              "    <tr>\n",
              "      <th>1</th>\n",
              "      <td>2</td>\n",
              "      <td>200</td>\n",
              "      <td>57.5</td>\n",
              "    </tr>\n",
              "    <tr>\n",
              "      <th>2</th>\n",
              "      <td>2</td>\n",
              "      <td>500</td>\n",
              "      <td>70.2</td>\n",
              "    </tr>\n",
              "    <tr>\n",
              "      <th>3</th>\n",
              "      <td>2</td>\n",
              "      <td>1000</td>\n",
              "      <td>31.0</td>\n",
              "    </tr>\n",
              "    <tr>\n",
              "      <th>4</th>\n",
              "      <td>3</td>\n",
              "      <td>100</td>\n",
              "      <td>43.0</td>\n",
              "    </tr>\n",
              "    <tr>\n",
              "      <th>5</th>\n",
              "      <td>3</td>\n",
              "      <td>200</td>\n",
              "      <td>68.0</td>\n",
              "    </tr>\n",
              "    <tr>\n",
              "      <th>6</th>\n",
              "      <td>3</td>\n",
              "      <td>500</td>\n",
              "      <td>27.0</td>\n",
              "    </tr>\n",
              "    <tr>\n",
              "      <th>7</th>\n",
              "      <td>3</td>\n",
              "      <td>1000</td>\n",
              "      <td>69.9</td>\n",
              "    </tr>\n",
              "    <tr>\n",
              "      <th>8</th>\n",
              "      <td>10</td>\n",
              "      <td>100</td>\n",
              "      <td>51.0</td>\n",
              "    </tr>\n",
              "    <tr>\n",
              "      <th>9</th>\n",
              "      <td>10</td>\n",
              "      <td>200</td>\n",
              "      <td>42.5</td>\n",
              "    </tr>\n",
              "    <tr>\n",
              "      <th>10</th>\n",
              "      <td>10</td>\n",
              "      <td>500</td>\n",
              "      <td>28.8</td>\n",
              "    </tr>\n",
              "    <tr>\n",
              "      <th>11</th>\n",
              "      <td>10</td>\n",
              "      <td>1000</td>\n",
              "      <td>70.9</td>\n",
              "    </tr>\n",
              "    <tr>\n",
              "      <th>12</th>\n",
              "      <td>50</td>\n",
              "      <td>100</td>\n",
              "      <td>58.0</td>\n",
              "    </tr>\n",
              "    <tr>\n",
              "      <th>13</th>\n",
              "      <td>50</td>\n",
              "      <td>200</td>\n",
              "      <td>61.0</td>\n",
              "    </tr>\n",
              "    <tr>\n",
              "      <th>14</th>\n",
              "      <td>50</td>\n",
              "      <td>500</td>\n",
              "      <td>24.8</td>\n",
              "    </tr>\n",
              "    <tr>\n",
              "      <th>15</th>\n",
              "      <td>50</td>\n",
              "      <td>1000</td>\n",
              "      <td>31.2</td>\n",
              "    </tr>\n",
              "    <tr>\n",
              "      <th>16</th>\n",
              "      <td>100</td>\n",
              "      <td>100</td>\n",
              "      <td>56.0</td>\n",
              "    </tr>\n",
              "    <tr>\n",
              "      <th>17</th>\n",
              "      <td>100</td>\n",
              "      <td>200</td>\n",
              "      <td>57.5</td>\n",
              "    </tr>\n",
              "    <tr>\n",
              "      <th>18</th>\n",
              "      <td>100</td>\n",
              "      <td>500</td>\n",
              "      <td>70.0</td>\n",
              "    </tr>\n",
              "    <tr>\n",
              "      <th>19</th>\n",
              "      <td>100</td>\n",
              "      <td>1000</td>\n",
              "      <td>29.3</td>\n",
              "    </tr>\n",
              "  </tbody>\n",
              "</table>\n",
              "</div>\n",
              "    <div class=\"colab-df-buttons\">\n",
              "\n",
              "  <div class=\"colab-df-container\">\n",
              "    <button class=\"colab-df-convert\" onclick=\"convertToInteractive('df-490da841-4404-45ba-8cbd-32bfebe0b803')\"\n",
              "            title=\"Convert this dataframe to an interactive table.\"\n",
              "            style=\"display:none;\">\n",
              "\n",
              "  <svg xmlns=\"http://www.w3.org/2000/svg\" height=\"24px\" viewBox=\"0 -960 960 960\">\n",
              "    <path d=\"M120-120v-720h720v720H120Zm60-500h600v-160H180v160Zm220 220h160v-160H400v160Zm0 220h160v-160H400v160ZM180-400h160v-160H180v160Zm440 0h160v-160H620v160ZM180-180h160v-160H180v160Zm440 0h160v-160H620v160Z\"/>\n",
              "  </svg>\n",
              "    </button>\n",
              "\n",
              "  <style>\n",
              "    .colab-df-container {\n",
              "      display:flex;\n",
              "      gap: 12px;\n",
              "    }\n",
              "\n",
              "    .colab-df-convert {\n",
              "      background-color: #E8F0FE;\n",
              "      border: none;\n",
              "      border-radius: 50%;\n",
              "      cursor: pointer;\n",
              "      display: none;\n",
              "      fill: #1967D2;\n",
              "      height: 32px;\n",
              "      padding: 0 0 0 0;\n",
              "      width: 32px;\n",
              "    }\n",
              "\n",
              "    .colab-df-convert:hover {\n",
              "      background-color: #E2EBFA;\n",
              "      box-shadow: 0px 1px 2px rgba(60, 64, 67, 0.3), 0px 1px 3px 1px rgba(60, 64, 67, 0.15);\n",
              "      fill: #174EA6;\n",
              "    }\n",
              "\n",
              "    .colab-df-buttons div {\n",
              "      margin-bottom: 4px;\n",
              "    }\n",
              "\n",
              "    [theme=dark] .colab-df-convert {\n",
              "      background-color: #3B4455;\n",
              "      fill: #D2E3FC;\n",
              "    }\n",
              "\n",
              "    [theme=dark] .colab-df-convert:hover {\n",
              "      background-color: #434B5C;\n",
              "      box-shadow: 0px 1px 3px 1px rgba(0, 0, 0, 0.15);\n",
              "      filter: drop-shadow(0px 1px 2px rgba(0, 0, 0, 0.3));\n",
              "      fill: #FFFFFF;\n",
              "    }\n",
              "  </style>\n",
              "\n",
              "    <script>\n",
              "      const buttonEl =\n",
              "        document.querySelector('#df-490da841-4404-45ba-8cbd-32bfebe0b803 button.colab-df-convert');\n",
              "      buttonEl.style.display =\n",
              "        google.colab.kernel.accessAllowed ? 'block' : 'none';\n",
              "\n",
              "      async function convertToInteractive(key) {\n",
              "        const element = document.querySelector('#df-490da841-4404-45ba-8cbd-32bfebe0b803');\n",
              "        const dataTable =\n",
              "          await google.colab.kernel.invokeFunction('convertToInteractive',\n",
              "                                                    [key], {});\n",
              "        if (!dataTable) return;\n",
              "\n",
              "        const docLinkHtml = 'Like what you see? Visit the ' +\n",
              "          '<a target=\"_blank\" href=https://colab.research.google.com/notebooks/data_table.ipynb>data table notebook</a>'\n",
              "          + ' to learn more about interactive tables.';\n",
              "        element.innerHTML = '';\n",
              "        dataTable['output_type'] = 'display_data';\n",
              "        await google.colab.output.renderOutput(dataTable, element);\n",
              "        const docLink = document.createElement('div');\n",
              "        docLink.innerHTML = docLinkHtml;\n",
              "        element.appendChild(docLink);\n",
              "      }\n",
              "    </script>\n",
              "  </div>\n",
              "\n",
              "\n",
              "<div id=\"df-0a0b188a-47ad-45e4-bcdc-cb0020ac12b9\">\n",
              "  <button class=\"colab-df-quickchart\" onclick=\"quickchart('df-0a0b188a-47ad-45e4-bcdc-cb0020ac12b9')\"\n",
              "            title=\"Suggest charts\"\n",
              "            style=\"display:none;\">\n",
              "\n",
              "<svg xmlns=\"http://www.w3.org/2000/svg\" height=\"24px\"viewBox=\"0 0 24 24\"\n",
              "     width=\"24px\">\n",
              "    <g>\n",
              "        <path d=\"M19 3H5c-1.1 0-2 .9-2 2v14c0 1.1.9 2 2 2h14c1.1 0 2-.9 2-2V5c0-1.1-.9-2-2-2zM9 17H7v-7h2v7zm4 0h-2V7h2v10zm4 0h-2v-4h2v4z\"/>\n",
              "    </g>\n",
              "</svg>\n",
              "  </button>\n",
              "\n",
              "<style>\n",
              "  .colab-df-quickchart {\n",
              "      --bg-color: #E8F0FE;\n",
              "      --fill-color: #1967D2;\n",
              "      --hover-bg-color: #E2EBFA;\n",
              "      --hover-fill-color: #174EA6;\n",
              "      --disabled-fill-color: #AAA;\n",
              "      --disabled-bg-color: #DDD;\n",
              "  }\n",
              "\n",
              "  [theme=dark] .colab-df-quickchart {\n",
              "      --bg-color: #3B4455;\n",
              "      --fill-color: #D2E3FC;\n",
              "      --hover-bg-color: #434B5C;\n",
              "      --hover-fill-color: #FFFFFF;\n",
              "      --disabled-bg-color: #3B4455;\n",
              "      --disabled-fill-color: #666;\n",
              "  }\n",
              "\n",
              "  .colab-df-quickchart {\n",
              "    background-color: var(--bg-color);\n",
              "    border: none;\n",
              "    border-radius: 50%;\n",
              "    cursor: pointer;\n",
              "    display: none;\n",
              "    fill: var(--fill-color);\n",
              "    height: 32px;\n",
              "    padding: 0;\n",
              "    width: 32px;\n",
              "  }\n",
              "\n",
              "  .colab-df-quickchart:hover {\n",
              "    background-color: var(--hover-bg-color);\n",
              "    box-shadow: 0 1px 2px rgba(60, 64, 67, 0.3), 0 1px 3px 1px rgba(60, 64, 67, 0.15);\n",
              "    fill: var(--button-hover-fill-color);\n",
              "  }\n",
              "\n",
              "  .colab-df-quickchart-complete:disabled,\n",
              "  .colab-df-quickchart-complete:disabled:hover {\n",
              "    background-color: var(--disabled-bg-color);\n",
              "    fill: var(--disabled-fill-color);\n",
              "    box-shadow: none;\n",
              "  }\n",
              "\n",
              "  .colab-df-spinner {\n",
              "    border: 2px solid var(--fill-color);\n",
              "    border-color: transparent;\n",
              "    border-bottom-color: var(--fill-color);\n",
              "    animation:\n",
              "      spin 1s steps(1) infinite;\n",
              "  }\n",
              "\n",
              "  @keyframes spin {\n",
              "    0% {\n",
              "      border-color: transparent;\n",
              "      border-bottom-color: var(--fill-color);\n",
              "      border-left-color: var(--fill-color);\n",
              "    }\n",
              "    20% {\n",
              "      border-color: transparent;\n",
              "      border-left-color: var(--fill-color);\n",
              "      border-top-color: var(--fill-color);\n",
              "    }\n",
              "    30% {\n",
              "      border-color: transparent;\n",
              "      border-left-color: var(--fill-color);\n",
              "      border-top-color: var(--fill-color);\n",
              "      border-right-color: var(--fill-color);\n",
              "    }\n",
              "    40% {\n",
              "      border-color: transparent;\n",
              "      border-right-color: var(--fill-color);\n",
              "      border-top-color: var(--fill-color);\n",
              "    }\n",
              "    60% {\n",
              "      border-color: transparent;\n",
              "      border-right-color: var(--fill-color);\n",
              "    }\n",
              "    80% {\n",
              "      border-color: transparent;\n",
              "      border-right-color: var(--fill-color);\n",
              "      border-bottom-color: var(--fill-color);\n",
              "    }\n",
              "    90% {\n",
              "      border-color: transparent;\n",
              "      border-bottom-color: var(--fill-color);\n",
              "    }\n",
              "  }\n",
              "</style>\n",
              "\n",
              "  <script>\n",
              "    async function quickchart(key) {\n",
              "      const quickchartButtonEl =\n",
              "        document.querySelector('#' + key + ' button');\n",
              "      quickchartButtonEl.disabled = true;  // To prevent multiple clicks.\n",
              "      quickchartButtonEl.classList.add('colab-df-spinner');\n",
              "      try {\n",
              "        const charts = await google.colab.kernel.invokeFunction(\n",
              "            'suggestCharts', [key], {});\n",
              "      } catch (error) {\n",
              "        console.error('Error during call to suggestCharts:', error);\n",
              "      }\n",
              "      quickchartButtonEl.classList.remove('colab-df-spinner');\n",
              "      quickchartButtonEl.classList.add('colab-df-quickchart-complete');\n",
              "    }\n",
              "    (() => {\n",
              "      let quickchartButtonEl =\n",
              "        document.querySelector('#df-0a0b188a-47ad-45e4-bcdc-cb0020ac12b9 button');\n",
              "      quickchartButtonEl.style.display =\n",
              "        google.colab.kernel.accessAllowed ? 'block' : 'none';\n",
              "    })();\n",
              "  </script>\n",
              "</div>\n",
              "    </div>\n",
              "  </div>\n"
            ],
            "text/plain": [
              "   MinDF ItemCount  accuracy\n",
              "0      2       100      50.0\n",
              "1      2       200      57.5\n",
              "2      2       500      70.2\n",
              "3      2      1000      31.0\n",
              "4      3       100      43.0\n",
              "5      3       200      68.0\n",
              "6      3       500      27.0\n",
              "7      3      1000      69.9\n",
              "8     10       100      51.0\n",
              "9     10       200      42.5\n",
              "10    10       500      28.8\n",
              "11    10      1000      70.9\n",
              "12    50       100      58.0\n",
              "13    50       200      61.0\n",
              "14    50       500      24.8\n",
              "15    50      1000      31.2\n",
              "16   100       100      56.0\n",
              "17   100       200      57.5\n",
              "18   100       500      70.0\n",
              "19   100      1000      29.3"
            ]
          },
          "execution_count": 112,
          "metadata": {},
          "output_type": "execute_result"
        }
      ],
      "source": [
        "accuracy_df = pd.DataFrame(columns=['MinDF', 'ItemCount', 'accuracy'])\n",
        "\n",
        "for df, id_values in zip(dfList, idList):\n",
        "    # Extract MinDF and ItemCount from id_values\n",
        "    MinDF, ItemCount = id_values\n",
        "    # Calculate the accuracy as the percentage of rows where 'label' and 'cluster' are equal\n",
        "    accuracy = (df['label'] == df['cluster']).mean() * 100\n",
        "    # Create a DataFrame for the new row and concatenate it with accuracy_df\n",
        "    new_row_df = pd.DataFrame({'MinDF': [MinDF], 'ItemCount': [ItemCount], 'accuracy': [accuracy]})\n",
        "    accuracy_df = pd.concat([accuracy_df, new_row_df], ignore_index=True)\n"
      ]
    },
    {
      "cell_type": "markdown",
      "metadata": {
        "id": "l4hY0frQX5z9"
      },
      "source": [
        "# Step8 : Print Accuracy dataframe"
      ]
    },
    {
      "cell_type": "code",
      "execution_count": 113,
      "metadata": {
        "colab": {
          "base_uri": "https://localhost:8080/",
          "height": 677
        },
        "id": "2YFUZbcqYGDQ",
        "outputId": "719cf526-e725-4a4a-c324-ea1954e3691e"
      },
      "outputs": [
        {
          "data": {
            "application/vnd.google.colaboratory.intrinsic+json": {
              "summary": "{\n  \"name\": \"accuracy_df\",\n  \"rows\": 20,\n  \"fields\": [\n    {\n      \"column\": \"MinDF\",\n      \"properties\": {\n        \"dtype\": \"date\",\n        \"min\": 2,\n        \"max\": 100,\n        \"num_unique_values\": 5,\n        \"samples\": [\n          3,\n          100,\n          10\n        ],\n        \"semantic_type\": \"\",\n        \"description\": \"\"\n      }\n    },\n    {\n      \"column\": \"ItemCount\",\n      \"properties\": {\n        \"dtype\": \"date\",\n        \"min\": 100,\n        \"max\": 1000,\n        \"num_unique_values\": 4,\n        \"samples\": [\n          200,\n          1000,\n          100\n        ],\n        \"semantic_type\": \"\",\n        \"description\": \"\"\n      }\n    },\n    {\n      \"column\": \"accuracy\",\n      \"properties\": {\n        \"dtype\": \"number\",\n        \"std\": 16.480821389852224,\n        \"min\": 24.8,\n        \"max\": 70.89999999999999,\n        \"num_unique_values\": 19,\n        \"samples\": [\n          50.0,\n          68.0,\n          70.89999999999999\n        ],\n        \"semantic_type\": \"\",\n        \"description\": \"\"\n      }\n    }\n  ]\n}",
              "type": "dataframe",
              "variable_name": "accuracy_df"
            },
            "text/html": [
              "\n",
              "  <div id=\"df-a7aaf481-94a5-4ac8-9442-9d65143e9819\" class=\"colab-df-container\">\n",
              "    <div>\n",
              "<style scoped>\n",
              "    .dataframe tbody tr th:only-of-type {\n",
              "        vertical-align: middle;\n",
              "    }\n",
              "\n",
              "    .dataframe tbody tr th {\n",
              "        vertical-align: top;\n",
              "    }\n",
              "\n",
              "    .dataframe thead th {\n",
              "        text-align: right;\n",
              "    }\n",
              "</style>\n",
              "<table border=\"1\" class=\"dataframe\">\n",
              "  <thead>\n",
              "    <tr style=\"text-align: right;\">\n",
              "      <th></th>\n",
              "      <th>MinDF</th>\n",
              "      <th>ItemCount</th>\n",
              "      <th>accuracy</th>\n",
              "    </tr>\n",
              "  </thead>\n",
              "  <tbody>\n",
              "    <tr>\n",
              "      <th>0</th>\n",
              "      <td>2</td>\n",
              "      <td>100</td>\n",
              "      <td>50.0</td>\n",
              "    </tr>\n",
              "    <tr>\n",
              "      <th>1</th>\n",
              "      <td>2</td>\n",
              "      <td>200</td>\n",
              "      <td>57.5</td>\n",
              "    </tr>\n",
              "    <tr>\n",
              "      <th>2</th>\n",
              "      <td>2</td>\n",
              "      <td>500</td>\n",
              "      <td>70.2</td>\n",
              "    </tr>\n",
              "    <tr>\n",
              "      <th>3</th>\n",
              "      <td>2</td>\n",
              "      <td>1000</td>\n",
              "      <td>31.0</td>\n",
              "    </tr>\n",
              "    <tr>\n",
              "      <th>4</th>\n",
              "      <td>3</td>\n",
              "      <td>100</td>\n",
              "      <td>43.0</td>\n",
              "    </tr>\n",
              "    <tr>\n",
              "      <th>5</th>\n",
              "      <td>3</td>\n",
              "      <td>200</td>\n",
              "      <td>68.0</td>\n",
              "    </tr>\n",
              "    <tr>\n",
              "      <th>6</th>\n",
              "      <td>3</td>\n",
              "      <td>500</td>\n",
              "      <td>27.0</td>\n",
              "    </tr>\n",
              "    <tr>\n",
              "      <th>7</th>\n",
              "      <td>3</td>\n",
              "      <td>1000</td>\n",
              "      <td>69.9</td>\n",
              "    </tr>\n",
              "    <tr>\n",
              "      <th>8</th>\n",
              "      <td>10</td>\n",
              "      <td>100</td>\n",
              "      <td>51.0</td>\n",
              "    </tr>\n",
              "    <tr>\n",
              "      <th>9</th>\n",
              "      <td>10</td>\n",
              "      <td>200</td>\n",
              "      <td>42.5</td>\n",
              "    </tr>\n",
              "    <tr>\n",
              "      <th>10</th>\n",
              "      <td>10</td>\n",
              "      <td>500</td>\n",
              "      <td>28.8</td>\n",
              "    </tr>\n",
              "    <tr>\n",
              "      <th>11</th>\n",
              "      <td>10</td>\n",
              "      <td>1000</td>\n",
              "      <td>70.9</td>\n",
              "    </tr>\n",
              "    <tr>\n",
              "      <th>12</th>\n",
              "      <td>50</td>\n",
              "      <td>100</td>\n",
              "      <td>58.0</td>\n",
              "    </tr>\n",
              "    <tr>\n",
              "      <th>13</th>\n",
              "      <td>50</td>\n",
              "      <td>200</td>\n",
              "      <td>61.0</td>\n",
              "    </tr>\n",
              "    <tr>\n",
              "      <th>14</th>\n",
              "      <td>50</td>\n",
              "      <td>500</td>\n",
              "      <td>24.8</td>\n",
              "    </tr>\n",
              "    <tr>\n",
              "      <th>15</th>\n",
              "      <td>50</td>\n",
              "      <td>1000</td>\n",
              "      <td>31.2</td>\n",
              "    </tr>\n",
              "    <tr>\n",
              "      <th>16</th>\n",
              "      <td>100</td>\n",
              "      <td>100</td>\n",
              "      <td>56.0</td>\n",
              "    </tr>\n",
              "    <tr>\n",
              "      <th>17</th>\n",
              "      <td>100</td>\n",
              "      <td>200</td>\n",
              "      <td>57.5</td>\n",
              "    </tr>\n",
              "    <tr>\n",
              "      <th>18</th>\n",
              "      <td>100</td>\n",
              "      <td>500</td>\n",
              "      <td>70.0</td>\n",
              "    </tr>\n",
              "    <tr>\n",
              "      <th>19</th>\n",
              "      <td>100</td>\n",
              "      <td>1000</td>\n",
              "      <td>29.3</td>\n",
              "    </tr>\n",
              "  </tbody>\n",
              "</table>\n",
              "</div>\n",
              "    <div class=\"colab-df-buttons\">\n",
              "\n",
              "  <div class=\"colab-df-container\">\n",
              "    <button class=\"colab-df-convert\" onclick=\"convertToInteractive('df-a7aaf481-94a5-4ac8-9442-9d65143e9819')\"\n",
              "            title=\"Convert this dataframe to an interactive table.\"\n",
              "            style=\"display:none;\">\n",
              "\n",
              "  <svg xmlns=\"http://www.w3.org/2000/svg\" height=\"24px\" viewBox=\"0 -960 960 960\">\n",
              "    <path d=\"M120-120v-720h720v720H120Zm60-500h600v-160H180v160Zm220 220h160v-160H400v160Zm0 220h160v-160H400v160ZM180-400h160v-160H180v160Zm440 0h160v-160H620v160ZM180-180h160v-160H180v160Zm440 0h160v-160H620v160Z\"/>\n",
              "  </svg>\n",
              "    </button>\n",
              "\n",
              "  <style>\n",
              "    .colab-df-container {\n",
              "      display:flex;\n",
              "      gap: 12px;\n",
              "    }\n",
              "\n",
              "    .colab-df-convert {\n",
              "      background-color: #E8F0FE;\n",
              "      border: none;\n",
              "      border-radius: 50%;\n",
              "      cursor: pointer;\n",
              "      display: none;\n",
              "      fill: #1967D2;\n",
              "      height: 32px;\n",
              "      padding: 0 0 0 0;\n",
              "      width: 32px;\n",
              "    }\n",
              "\n",
              "    .colab-df-convert:hover {\n",
              "      background-color: #E2EBFA;\n",
              "      box-shadow: 0px 1px 2px rgba(60, 64, 67, 0.3), 0px 1px 3px 1px rgba(60, 64, 67, 0.15);\n",
              "      fill: #174EA6;\n",
              "    }\n",
              "\n",
              "    .colab-df-buttons div {\n",
              "      margin-bottom: 4px;\n",
              "    }\n",
              "\n",
              "    [theme=dark] .colab-df-convert {\n",
              "      background-color: #3B4455;\n",
              "      fill: #D2E3FC;\n",
              "    }\n",
              "\n",
              "    [theme=dark] .colab-df-convert:hover {\n",
              "      background-color: #434B5C;\n",
              "      box-shadow: 0px 1px 3px 1px rgba(0, 0, 0, 0.15);\n",
              "      filter: drop-shadow(0px 1px 2px rgba(0, 0, 0, 0.3));\n",
              "      fill: #FFFFFF;\n",
              "    }\n",
              "  </style>\n",
              "\n",
              "    <script>\n",
              "      const buttonEl =\n",
              "        document.querySelector('#df-a7aaf481-94a5-4ac8-9442-9d65143e9819 button.colab-df-convert');\n",
              "      buttonEl.style.display =\n",
              "        google.colab.kernel.accessAllowed ? 'block' : 'none';\n",
              "\n",
              "      async function convertToInteractive(key) {\n",
              "        const element = document.querySelector('#df-a7aaf481-94a5-4ac8-9442-9d65143e9819');\n",
              "        const dataTable =\n",
              "          await google.colab.kernel.invokeFunction('convertToInteractive',\n",
              "                                                    [key], {});\n",
              "        if (!dataTable) return;\n",
              "\n",
              "        const docLinkHtml = 'Like what you see? Visit the ' +\n",
              "          '<a target=\"_blank\" href=https://colab.research.google.com/notebooks/data_table.ipynb>data table notebook</a>'\n",
              "          + ' to learn more about interactive tables.';\n",
              "        element.innerHTML = '';\n",
              "        dataTable['output_type'] = 'display_data';\n",
              "        await google.colab.output.renderOutput(dataTable, element);\n",
              "        const docLink = document.createElement('div');\n",
              "        docLink.innerHTML = docLinkHtml;\n",
              "        element.appendChild(docLink);\n",
              "      }\n",
              "    </script>\n",
              "  </div>\n",
              "\n",
              "\n",
              "<div id=\"df-cf3c1b0b-1eec-44c4-b7aa-c32f7dc55292\">\n",
              "  <button class=\"colab-df-quickchart\" onclick=\"quickchart('df-cf3c1b0b-1eec-44c4-b7aa-c32f7dc55292')\"\n",
              "            title=\"Suggest charts\"\n",
              "            style=\"display:none;\">\n",
              "\n",
              "<svg xmlns=\"http://www.w3.org/2000/svg\" height=\"24px\"viewBox=\"0 0 24 24\"\n",
              "     width=\"24px\">\n",
              "    <g>\n",
              "        <path d=\"M19 3H5c-1.1 0-2 .9-2 2v14c0 1.1.9 2 2 2h14c1.1 0 2-.9 2-2V5c0-1.1-.9-2-2-2zM9 17H7v-7h2v7zm4 0h-2V7h2v10zm4 0h-2v-4h2v4z\"/>\n",
              "    </g>\n",
              "</svg>\n",
              "  </button>\n",
              "\n",
              "<style>\n",
              "  .colab-df-quickchart {\n",
              "      --bg-color: #E8F0FE;\n",
              "      --fill-color: #1967D2;\n",
              "      --hover-bg-color: #E2EBFA;\n",
              "      --hover-fill-color: #174EA6;\n",
              "      --disabled-fill-color: #AAA;\n",
              "      --disabled-bg-color: #DDD;\n",
              "  }\n",
              "\n",
              "  [theme=dark] .colab-df-quickchart {\n",
              "      --bg-color: #3B4455;\n",
              "      --fill-color: #D2E3FC;\n",
              "      --hover-bg-color: #434B5C;\n",
              "      --hover-fill-color: #FFFFFF;\n",
              "      --disabled-bg-color: #3B4455;\n",
              "      --disabled-fill-color: #666;\n",
              "  }\n",
              "\n",
              "  .colab-df-quickchart {\n",
              "    background-color: var(--bg-color);\n",
              "    border: none;\n",
              "    border-radius: 50%;\n",
              "    cursor: pointer;\n",
              "    display: none;\n",
              "    fill: var(--fill-color);\n",
              "    height: 32px;\n",
              "    padding: 0;\n",
              "    width: 32px;\n",
              "  }\n",
              "\n",
              "  .colab-df-quickchart:hover {\n",
              "    background-color: var(--hover-bg-color);\n",
              "    box-shadow: 0 1px 2px rgba(60, 64, 67, 0.3), 0 1px 3px 1px rgba(60, 64, 67, 0.15);\n",
              "    fill: var(--button-hover-fill-color);\n",
              "  }\n",
              "\n",
              "  .colab-df-quickchart-complete:disabled,\n",
              "  .colab-df-quickchart-complete:disabled:hover {\n",
              "    background-color: var(--disabled-bg-color);\n",
              "    fill: var(--disabled-fill-color);\n",
              "    box-shadow: none;\n",
              "  }\n",
              "\n",
              "  .colab-df-spinner {\n",
              "    border: 2px solid var(--fill-color);\n",
              "    border-color: transparent;\n",
              "    border-bottom-color: var(--fill-color);\n",
              "    animation:\n",
              "      spin 1s steps(1) infinite;\n",
              "  }\n",
              "\n",
              "  @keyframes spin {\n",
              "    0% {\n",
              "      border-color: transparent;\n",
              "      border-bottom-color: var(--fill-color);\n",
              "      border-left-color: var(--fill-color);\n",
              "    }\n",
              "    20% {\n",
              "      border-color: transparent;\n",
              "      border-left-color: var(--fill-color);\n",
              "      border-top-color: var(--fill-color);\n",
              "    }\n",
              "    30% {\n",
              "      border-color: transparent;\n",
              "      border-left-color: var(--fill-color);\n",
              "      border-top-color: var(--fill-color);\n",
              "      border-right-color: var(--fill-color);\n",
              "    }\n",
              "    40% {\n",
              "      border-color: transparent;\n",
              "      border-right-color: var(--fill-color);\n",
              "      border-top-color: var(--fill-color);\n",
              "    }\n",
              "    60% {\n",
              "      border-color: transparent;\n",
              "      border-right-color: var(--fill-color);\n",
              "    }\n",
              "    80% {\n",
              "      border-color: transparent;\n",
              "      border-right-color: var(--fill-color);\n",
              "      border-bottom-color: var(--fill-color);\n",
              "    }\n",
              "    90% {\n",
              "      border-color: transparent;\n",
              "      border-bottom-color: var(--fill-color);\n",
              "    }\n",
              "  }\n",
              "</style>\n",
              "\n",
              "  <script>\n",
              "    async function quickchart(key) {\n",
              "      const quickchartButtonEl =\n",
              "        document.querySelector('#' + key + ' button');\n",
              "      quickchartButtonEl.disabled = true;  // To prevent multiple clicks.\n",
              "      quickchartButtonEl.classList.add('colab-df-spinner');\n",
              "      try {\n",
              "        const charts = await google.colab.kernel.invokeFunction(\n",
              "            'suggestCharts', [key], {});\n",
              "      } catch (error) {\n",
              "        console.error('Error during call to suggestCharts:', error);\n",
              "      }\n",
              "      quickchartButtonEl.classList.remove('colab-df-spinner');\n",
              "      quickchartButtonEl.classList.add('colab-df-quickchart-complete');\n",
              "    }\n",
              "    (() => {\n",
              "      let quickchartButtonEl =\n",
              "        document.querySelector('#df-cf3c1b0b-1eec-44c4-b7aa-c32f7dc55292 button');\n",
              "      quickchartButtonEl.style.display =\n",
              "        google.colab.kernel.accessAllowed ? 'block' : 'none';\n",
              "    })();\n",
              "  </script>\n",
              "</div>\n",
              "    </div>\n",
              "  </div>\n"
            ],
            "text/plain": [
              "   MinDF ItemCount  accuracy\n",
              "0      2       100      50.0\n",
              "1      2       200      57.5\n",
              "2      2       500      70.2\n",
              "3      2      1000      31.0\n",
              "4      3       100      43.0\n",
              "5      3       200      68.0\n",
              "6      3       500      27.0\n",
              "7      3      1000      69.9\n",
              "8     10       100      51.0\n",
              "9     10       200      42.5\n",
              "10    10       500      28.8\n",
              "11    10      1000      70.9\n",
              "12    50       100      58.0\n",
              "13    50       200      61.0\n",
              "14    50       500      24.8\n",
              "15    50      1000      31.2\n",
              "16   100       100      56.0\n",
              "17   100       200      57.5\n",
              "18   100       500      70.0\n",
              "19   100      1000      29.3"
            ]
          },
          "execution_count": 113,
          "metadata": {},
          "output_type": "execute_result"
        }
      ],
      "source": [
        "accuracy_df"
      ]
    },
    {
      "cell_type": "markdown",
      "metadata": {
        "id": "3p2VVF0KB3cD"
      },
      "source": [
        "# Step9 : Zip Folder"
      ]
    },
    {
      "cell_type": "code",
      "execution_count": 97,
      "metadata": {
        "id": "M4NPHFwZB8xC"
      },
      "outputs": [],
      "source": [
        "import os\n",
        "import zipfile\n",
        "\n",
        "def zip_folder(folder_path, zip_file_path):\n",
        "    # Create a ZIP file\n",
        "    with zipfile.ZipFile(zip_file_path, 'w', zipfile.ZIP_DEFLATED) as zipf:\n",
        "        # Walk through the folder\n",
        "        for root, dirs, files in os.walk(folder_path):\n",
        "            for file in files:\n",
        "                # Create a full file path\n",
        "                full_path = os.path.join(root, file)\n",
        "                # Add the file to the ZIP file\n",
        "                zipf.write(full_path, os.path.relpath(full_path, folder_path))\n",
        "\n",
        "# Example usage\n",
        "folder_path = '/ClusterFolder/'\n",
        "zip_file_path = '/ClustersZipfile.zip'\n",
        "zip_folder(folder_path, zip_file_path)\n"
      ]
    },
    {
      "cell_type": "code",
      "execution_count": null,
      "metadata": {
        "id": "n6_f_mWHryEj"
      },
      "outputs": [],
      "source": [
        "dataset = load_dataset(\"saied/persian_news_dataset\", split=\"train\",streaming=True)"
      ]
    },
    {
      "cell_type": "code",
      "execution_count": null,
      "metadata": {
        "id": "nsf6CyeIsAov"
      },
      "outputs": [],
      "source": [
        "dataset"
      ]
    },
    {
      "cell_type": "code",
      "execution_count": null,
      "metadata": {
        "id": "HclM0yOtpJXS"
      },
      "outputs": [],
      "source": [
        "docs=[]\n",
        "document_count=1000\n",
        "counter=0\n",
        "skip_counter=0\n",
        "for doc in dataset:\n",
        "    # print(f\"{doc['category']}\\t\\t{doc['title']}\\t\\t\\t\\t{doc['text']}\")\n",
        "    if len(doc['title'])==0 or len(doc['category'])==0:\n",
        "      skip_counter += 1\n",
        "      if skip_counter%10000 ==0:\n",
        "        print(f'{skip_counter} skipped')\n",
        "      continue\n",
        "    docs.append(doc)\n",
        "    counter += 1\n",
        "    if counter == document_count:\n",
        "      break\n",
        "print(len(docs))"
      ]
    },
    {
      "cell_type": "code",
      "execution_count": null,
      "metadata": {
        "id": "SE13-ZaGjn62"
      },
      "outputs": [],
      "source": [
        "docs[0]"
      ]
    },
    {
      "cell_type": "code",
      "execution_count": null,
      "metadata": {
        "id": "DX4Ez3UbvY1x"
      },
      "outputs": [],
      "source": [
        "len(set([doc['category'] for doc in docs]))"
      ]
    },
    {
      "cell_type": "code",
      "execution_count": null,
      "metadata": {
        "id": "C1R6hBdbjleQ"
      },
      "outputs": [],
      "source": [
        "!pip install stanza"
      ]
    },
    {
      "cell_type": "code",
      "execution_count": null,
      "metadata": {
        "id": "GUB7b1q7zCsn"
      },
      "outputs": [],
      "source": [
        "import stanza\n",
        "stanza.download('fa')       # This downloads the English models for the neural pipeline"
      ]
    },
    {
      "cell_type": "code",
      "execution_count": null,
      "metadata": {
        "id": "uoz5gqWAsbfM"
      },
      "outputs": [],
      "source": [
        "nlp = stanza.Pipeline(lang='fa', processors='tokenize,pos')"
      ]
    },
    {
      "cell_type": "code",
      "execution_count": null,
      "metadata": {
        "id": "HikryqUjrZd-"
      },
      "outputs": [],
      "source": [
        "doc = nlp(\"محسن محمدي متولد شهر تهران است. او در ۲۰ سالگی در مشهد به دانشگاه رفت.\")"
      ]
    },
    {
      "cell_type": "code",
      "execution_count": null,
      "metadata": {
        "id": "TcAHt2VNzXXF"
      },
      "outputs": [],
      "source": [
        "doc"
      ]
    },
    {
      "cell_type": "code",
      "execution_count": null,
      "metadata": {
        "id": "NYXRb9C9rOuy"
      },
      "outputs": [],
      "source": [
        "print(*[f'word: {word.text+\" \"}\\tpos: {word.pos}' for sent in doc.sentences for word in sent.words], sep='\\n')"
      ]
    }
  ],
  "metadata": {
    "colab": {
      "provenance": []
    },
    "kernelspec": {
      "display_name": "Python 3",
      "name": "python3"
    },
    "language_info": {
      "name": "python"
    }
  },
  "nbformat": 4,
  "nbformat_minor": 0
}
